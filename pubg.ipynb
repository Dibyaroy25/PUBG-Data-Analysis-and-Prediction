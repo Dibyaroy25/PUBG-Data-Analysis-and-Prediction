{
  "nbformat": 4,
  "nbformat_minor": 0,
  "metadata": {
    "colab": {
      "name": "pubg.ipynb",
      "provenance": [],
      "collapsed_sections": [],
      "include_colab_link": true
    },
    "kernelspec": {
      "display_name": "Python 3",
      "name": "python3"
    }
  },
  "cells": [
    {
      "cell_type": "markdown",
      "metadata": {
        "id": "view-in-github",
        "colab_type": "text"
      },
      "source": [
        "<a href=\"https://colab.research.google.com/github/Dibyaroy25/PUBG-Data-Analysis-and-Prediction/blob/main/pubg.ipynb\" target=\"_parent\"><img src=\"https://colab.research.google.com/assets/colab-badge.svg\" alt=\"Open In Colab\"/></a>"
      ]
    },
    {
      "cell_type": "code",
      "metadata": {
        "colab": {
          "base_uri": "https://localhost:8080/"
        },
        "id": "aYp98P4maQGx",
        "outputId": "4c2bc9f9-c9f9-4f22-c826-3e68c979de84"
      },
      "source": [
        "from google.colab import drive\r\n",
        "drive.mount('/content/drive')"
      ],
      "execution_count": 2,
      "outputs": [
        {
          "output_type": "stream",
          "text": [
            "Mounted at /content/drive\n"
          ],
          "name": "stdout"
        }
      ]
    },
    {
      "cell_type": "code",
      "metadata": {
        "id": "RraTwHMhc4HH"
      },
      "source": [
        "import numpy as np\r\n",
        "import pandas as pd\r\n",
        "import matplotlib.pyplot as plt\r\n",
        "import seaborn as sns\r\n",
        "import itertools\r\n",
        "import warnings\r\n",
        "warnings.filterwarnings(\"ignore\")"
      ],
      "execution_count": 3,
      "outputs": []
    },
    {
      "cell_type": "code",
      "metadata": {
        "id": "VOW34MrwLQ40"
      },
      "source": [
        "data=pd.read_csv(\"/content/drive/MyDrive/pubg-finish-placement-prediction/train_V2.csv\")"
      ],
      "execution_count": 4,
      "outputs": []
    },
    {
      "cell_type": "code",
      "metadata": {
        "id": "AOVXkAbLHMXy"
      },
      "source": [
        "def reduce_mem_usage(df):\r\n",
        "    \"\"\" iterate through all the columns of a dataframe and modify the data type\r\n",
        "        to reduce memory usage.\r\n",
        "    \"\"\"\r\n",
        "    start_mem = df.memory_usage().sum() / 1024**2\r\n",
        "    \r\n",
        "    for col in df.columns:\r\n",
        "        col_type = df[col].dtype\r\n",
        "        \r\n",
        "        if col_type != object:\r\n",
        "            c_min = df[col].min()\r\n",
        "            c_max = df[col].max()\r\n",
        "            if str(col_type)[:3] == 'int':\r\n",
        "                if c_min > np.iinfo(np.int8).min and c_max < np.iinfo(np.int8).max:\r\n",
        "                    df[col] = df[col].astype(np.int8)\r\n",
        "                elif c_min > np.iinfo(np.int16).min and c_max < np.iinfo(np.int16).max:\r\n",
        "                    df[col] = df[col].astype(np.int16)\r\n",
        "                elif c_min > np.iinfo(np.int32).min and c_max < np.iinfo(np.int32).max:\r\n",
        "                    df[col] = df[col].astype(np.int32)\r\n",
        "                elif c_min > np.iinfo(np.int64).min and c_max < np.iinfo(np.int64).max:\r\n",
        "                    df[col] = df[col].astype(np.int64)\r\n",
        "            else:\r\n",
        "                #if c_min > np.finfo(np.float16).min and c_max < np.finfo(np.float16).max:\r\n",
        "                #    df[col] = df[col].astype(np.float16)\r\n",
        "                #el\r\n",
        "                if c_min > np.finfo(np.float32).min and c_max < np.finfo(np.float32).max:\r\n",
        "                    df[col] = df[col].astype(np.float32)\r\n",
        "                else:\r\n",
        "                    df[col] = df[col].astype(np.float64)\r\n",
        "        #else:\r\n",
        "            #df[col] = df[col].astype('category')\r\n",
        "\r\n",
        "    end_mem = df.memory_usage().sum() / 1024**2\r\n",
        "    print('Memory usage of dataframe is {:.2f} MB --> {:.2f} MB (Decreased by {:.1f}%)'.format(\r\n",
        "        start_mem, end_mem, 100 * (start_mem - end_mem) / start_mem))\r\n",
        "    return df\r\n"
      ],
      "execution_count": 5,
      "outputs": []
    },
    {
      "cell_type": "code",
      "metadata": {
        "colab": {
          "base_uri": "https://localhost:8080/"
        },
        "id": "f4Ri2T1Hj7Pz",
        "outputId": "ab82dcf4-c27b-4c04-bcb9-26094478ee40"
      },
      "source": [
        "data=reduce_mem_usage(data)"
      ],
      "execution_count": 6,
      "outputs": [
        {
          "output_type": "stream",
          "text": [
            "Memory usage of dataframe is 983.90 MB --> 339.28 MB (Decreased by 65.5%)\n"
          ],
          "name": "stdout"
        }
      ]
    },
    {
      "cell_type": "code",
      "metadata": {
        "id": "T1_aSRe0vP-3"
      },
      "source": [
        "pd.set_option('float_format', '{:2f}'.format)"
      ],
      "execution_count": 7,
      "outputs": []
    },
    {
      "cell_type": "code",
      "metadata": {
        "id": "xgI0Pt2QgMgl"
      },
      "source": [
        "pd.options.display.float_format = \"{:,.2f}\".format"
      ],
      "execution_count": 8,
      "outputs": []
    },
    {
      "cell_type": "markdown",
      "metadata": {
        "id": "6tYkVw9mUCOu"
      },
      "source": [
        "#Data Info\r\n",
        "\r\n",
        "---\r\n",
        "\r\n",
        "---\r\n",
        "\r\n",
        "\r\n",
        "\r\n"
      ]
    },
    {
      "cell_type": "code",
      "metadata": {
        "colab": {
          "base_uri": "https://localhost:8080/"
        },
        "id": "z5_kyXAydVLN",
        "outputId": "df83a965-c839-4b64-b66a-66e24169ccb0"
      },
      "source": [
        "data.shape"
      ],
      "execution_count": 9,
      "outputs": [
        {
          "output_type": "execute_result",
          "data": {
            "text/plain": [
              "(4446966, 29)"
            ]
          },
          "metadata": {
            "tags": []
          },
          "execution_count": 9
        }
      ]
    },
    {
      "cell_type": "markdown",
      "metadata": {
        "id": "02rue_firTWC"
      },
      "source": [
        "###44446966 rows and 29 cols"
      ]
    },
    {
      "cell_type": "code",
      "metadata": {
        "colab": {
          "base_uri": "https://localhost:8080/",
          "height": 222
        },
        "id": "fKicoKhXTpIk",
        "outputId": "08edaa04-674d-41b4-ce72-d50aa9784281"
      },
      "source": [
        "data.head()"
      ],
      "execution_count": 10,
      "outputs": [
        {
          "output_type": "execute_result",
          "data": {
            "text/html": [
              "<div>\n",
              "<style scoped>\n",
              "    .dataframe tbody tr th:only-of-type {\n",
              "        vertical-align: middle;\n",
              "    }\n",
              "\n",
              "    .dataframe tbody tr th {\n",
              "        vertical-align: top;\n",
              "    }\n",
              "\n",
              "    .dataframe thead th {\n",
              "        text-align: right;\n",
              "    }\n",
              "</style>\n",
              "<table border=\"1\" class=\"dataframe\">\n",
              "  <thead>\n",
              "    <tr style=\"text-align: right;\">\n",
              "      <th></th>\n",
              "      <th>Id</th>\n",
              "      <th>groupId</th>\n",
              "      <th>matchId</th>\n",
              "      <th>assists</th>\n",
              "      <th>boosts</th>\n",
              "      <th>damageDealt</th>\n",
              "      <th>DBNOs</th>\n",
              "      <th>headshotKills</th>\n",
              "      <th>heals</th>\n",
              "      <th>killPlace</th>\n",
              "      <th>killPoints</th>\n",
              "      <th>kills</th>\n",
              "      <th>killStreaks</th>\n",
              "      <th>longestKill</th>\n",
              "      <th>matchDuration</th>\n",
              "      <th>matchType</th>\n",
              "      <th>maxPlace</th>\n",
              "      <th>numGroups</th>\n",
              "      <th>rankPoints</th>\n",
              "      <th>revives</th>\n",
              "      <th>rideDistance</th>\n",
              "      <th>roadKills</th>\n",
              "      <th>swimDistance</th>\n",
              "      <th>teamKills</th>\n",
              "      <th>vehicleDestroys</th>\n",
              "      <th>walkDistance</th>\n",
              "      <th>weaponsAcquired</th>\n",
              "      <th>winPoints</th>\n",
              "      <th>winPlacePerc</th>\n",
              "    </tr>\n",
              "  </thead>\n",
              "  <tbody>\n",
              "    <tr>\n",
              "      <th>0</th>\n",
              "      <td>7f96b2f878858a</td>\n",
              "      <td>4d4b580de459be</td>\n",
              "      <td>a10357fd1a4a91</td>\n",
              "      <td>0</td>\n",
              "      <td>0</td>\n",
              "      <td>0.00</td>\n",
              "      <td>0</td>\n",
              "      <td>0</td>\n",
              "      <td>0</td>\n",
              "      <td>60</td>\n",
              "      <td>1241</td>\n",
              "      <td>0</td>\n",
              "      <td>0</td>\n",
              "      <td>0.00</td>\n",
              "      <td>1306</td>\n",
              "      <td>squad-fpp</td>\n",
              "      <td>28</td>\n",
              "      <td>26</td>\n",
              "      <td>-1</td>\n",
              "      <td>0</td>\n",
              "      <td>0.00</td>\n",
              "      <td>0</td>\n",
              "      <td>0.00</td>\n",
              "      <td>0</td>\n",
              "      <td>0</td>\n",
              "      <td>244.80</td>\n",
              "      <td>1</td>\n",
              "      <td>1466</td>\n",
              "      <td>0.44</td>\n",
              "    </tr>\n",
              "    <tr>\n",
              "      <th>1</th>\n",
              "      <td>eef90569b9d03c</td>\n",
              "      <td>684d5656442f9e</td>\n",
              "      <td>aeb375fc57110c</td>\n",
              "      <td>0</td>\n",
              "      <td>0</td>\n",
              "      <td>91.47</td>\n",
              "      <td>0</td>\n",
              "      <td>0</td>\n",
              "      <td>0</td>\n",
              "      <td>57</td>\n",
              "      <td>0</td>\n",
              "      <td>0</td>\n",
              "      <td>0</td>\n",
              "      <td>0.00</td>\n",
              "      <td>1777</td>\n",
              "      <td>squad-fpp</td>\n",
              "      <td>26</td>\n",
              "      <td>25</td>\n",
              "      <td>1484</td>\n",
              "      <td>0</td>\n",
              "      <td>0.00</td>\n",
              "      <td>0</td>\n",
              "      <td>11.04</td>\n",
              "      <td>0</td>\n",
              "      <td>0</td>\n",
              "      <td>1,434.00</td>\n",
              "      <td>5</td>\n",
              "      <td>0</td>\n",
              "      <td>0.64</td>\n",
              "    </tr>\n",
              "    <tr>\n",
              "      <th>2</th>\n",
              "      <td>1eaf90ac73de72</td>\n",
              "      <td>6a4a42c3245a74</td>\n",
              "      <td>110163d8bb94ae</td>\n",
              "      <td>1</td>\n",
              "      <td>0</td>\n",
              "      <td>68.00</td>\n",
              "      <td>0</td>\n",
              "      <td>0</td>\n",
              "      <td>0</td>\n",
              "      <td>47</td>\n",
              "      <td>0</td>\n",
              "      <td>0</td>\n",
              "      <td>0</td>\n",
              "      <td>0.00</td>\n",
              "      <td>1318</td>\n",
              "      <td>duo</td>\n",
              "      <td>50</td>\n",
              "      <td>47</td>\n",
              "      <td>1491</td>\n",
              "      <td>0</td>\n",
              "      <td>0.00</td>\n",
              "      <td>0</td>\n",
              "      <td>0.00</td>\n",
              "      <td>0</td>\n",
              "      <td>0</td>\n",
              "      <td>161.80</td>\n",
              "      <td>2</td>\n",
              "      <td>0</td>\n",
              "      <td>0.78</td>\n",
              "    </tr>\n",
              "    <tr>\n",
              "      <th>3</th>\n",
              "      <td>4616d365dd2853</td>\n",
              "      <td>a930a9c79cd721</td>\n",
              "      <td>f1f1f4ef412d7e</td>\n",
              "      <td>0</td>\n",
              "      <td>0</td>\n",
              "      <td>32.90</td>\n",
              "      <td>0</td>\n",
              "      <td>0</td>\n",
              "      <td>0</td>\n",
              "      <td>75</td>\n",
              "      <td>0</td>\n",
              "      <td>0</td>\n",
              "      <td>0</td>\n",
              "      <td>0.00</td>\n",
              "      <td>1436</td>\n",
              "      <td>squad-fpp</td>\n",
              "      <td>31</td>\n",
              "      <td>30</td>\n",
              "      <td>1408</td>\n",
              "      <td>0</td>\n",
              "      <td>0.00</td>\n",
              "      <td>0</td>\n",
              "      <td>0.00</td>\n",
              "      <td>0</td>\n",
              "      <td>0</td>\n",
              "      <td>202.70</td>\n",
              "      <td>3</td>\n",
              "      <td>0</td>\n",
              "      <td>0.17</td>\n",
              "    </tr>\n",
              "    <tr>\n",
              "      <th>4</th>\n",
              "      <td>315c96c26c9aac</td>\n",
              "      <td>de04010b3458dd</td>\n",
              "      <td>6dc8ff871e21e6</td>\n",
              "      <td>0</td>\n",
              "      <td>0</td>\n",
              "      <td>100.00</td>\n",
              "      <td>0</td>\n",
              "      <td>0</td>\n",
              "      <td>0</td>\n",
              "      <td>45</td>\n",
              "      <td>0</td>\n",
              "      <td>1</td>\n",
              "      <td>1</td>\n",
              "      <td>58.53</td>\n",
              "      <td>1424</td>\n",
              "      <td>solo-fpp</td>\n",
              "      <td>97</td>\n",
              "      <td>95</td>\n",
              "      <td>1560</td>\n",
              "      <td>0</td>\n",
              "      <td>0.00</td>\n",
              "      <td>0</td>\n",
              "      <td>0.00</td>\n",
              "      <td>0</td>\n",
              "      <td>0</td>\n",
              "      <td>49.75</td>\n",
              "      <td>2</td>\n",
              "      <td>0</td>\n",
              "      <td>0.19</td>\n",
              "    </tr>\n",
              "  </tbody>\n",
              "</table>\n",
              "</div>"
            ],
            "text/plain": [
              "               Id         groupId  ... winPoints  winPlacePerc\n",
              "0  7f96b2f878858a  4d4b580de459be  ...      1466          0.44\n",
              "1  eef90569b9d03c  684d5656442f9e  ...         0          0.64\n",
              "2  1eaf90ac73de72  6a4a42c3245a74  ...         0          0.78\n",
              "3  4616d365dd2853  a930a9c79cd721  ...         0          0.17\n",
              "4  315c96c26c9aac  de04010b3458dd  ...         0          0.19\n",
              "\n",
              "[5 rows x 29 columns]"
            ]
          },
          "metadata": {
            "tags": []
          },
          "execution_count": 10
        }
      ]
    },
    {
      "cell_type": "markdown",
      "metadata": {
        "id": "oQxUtS8Lraio"
      },
      "source": [
        "###First 5  rows."
      ]
    },
    {
      "cell_type": "code",
      "metadata": {
        "colab": {
          "base_uri": "https://localhost:8080/"
        },
        "id": "yd01uc_vTrBn",
        "outputId": "c3206fb4-e61a-4d38-d8c5-b671c9c74dc2"
      },
      "source": [
        "data.dtypes"
      ],
      "execution_count": 11,
      "outputs": [
        {
          "output_type": "execute_result",
          "data": {
            "text/plain": [
              "Id                  object\n",
              "groupId             object\n",
              "matchId             object\n",
              "assists               int8\n",
              "boosts                int8\n",
              "damageDealt        float32\n",
              "DBNOs                 int8\n",
              "headshotKills         int8\n",
              "heals                 int8\n",
              "killPlace             int8\n",
              "killPoints           int16\n",
              "kills                 int8\n",
              "killStreaks           int8\n",
              "longestKill        float32\n",
              "matchDuration        int16\n",
              "matchType           object\n",
              "maxPlace              int8\n",
              "numGroups             int8\n",
              "rankPoints           int16\n",
              "revives               int8\n",
              "rideDistance       float32\n",
              "roadKills             int8\n",
              "swimDistance       float32\n",
              "teamKills             int8\n",
              "vehicleDestroys       int8\n",
              "walkDistance       float32\n",
              "weaponsAcquired      int16\n",
              "winPoints            int16\n",
              "winPlacePerc       float32\n",
              "dtype: object"
            ]
          },
          "metadata": {
            "tags": []
          },
          "execution_count": 11
        }
      ]
    },
    {
      "cell_type": "markdown",
      "metadata": {
        "id": "AUPXDS9ck8LN"
      },
      "source": [
        "##Four Categorical column rest numerical."
      ]
    },
    {
      "cell_type": "code",
      "metadata": {
        "colab": {
          "base_uri": "https://localhost:8080/"
        },
        "id": "8S3dTpt-TwhO",
        "outputId": "0e574d9e-481d-4f02-c302-2d59548f7da1"
      },
      "source": [
        "data.isnull().sum()"
      ],
      "execution_count": 12,
      "outputs": [
        {
          "output_type": "execute_result",
          "data": {
            "text/plain": [
              "Id                 0\n",
              "groupId            0\n",
              "matchId            0\n",
              "assists            0\n",
              "boosts             0\n",
              "damageDealt        0\n",
              "DBNOs              0\n",
              "headshotKills      0\n",
              "heals              0\n",
              "killPlace          0\n",
              "killPoints         0\n",
              "kills              0\n",
              "killStreaks        0\n",
              "longestKill        0\n",
              "matchDuration      0\n",
              "matchType          0\n",
              "maxPlace           0\n",
              "numGroups          0\n",
              "rankPoints         0\n",
              "revives            0\n",
              "rideDistance       0\n",
              "roadKills          0\n",
              "swimDistance       0\n",
              "teamKills          0\n",
              "vehicleDestroys    0\n",
              "walkDistance       0\n",
              "weaponsAcquired    0\n",
              "winPoints          0\n",
              "winPlacePerc       1\n",
              "dtype: int64"
            ]
          },
          "metadata": {
            "tags": []
          },
          "execution_count": 12
        }
      ]
    },
    {
      "cell_type": "markdown",
      "metadata": {
        "id": "UpaYXcEFlDli"
      },
      "source": [
        "###One null col(dependant col) with one null value."
      ]
    },
    {
      "cell_type": "code",
      "metadata": {
        "colab": {
          "base_uri": "https://localhost:8080/"
        },
        "id": "HZpEE-xoT2_E",
        "outputId": "70648163-5cfc-4d88-f95f-4022f619690d"
      },
      "source": [
        "data.nunique()"
      ],
      "execution_count": 13,
      "outputs": [
        {
          "output_type": "execute_result",
          "data": {
            "text/plain": [
              "Id                 4446966\n",
              "groupId            2026745\n",
              "matchId              47965\n",
              "assists                 20\n",
              "boosts                  27\n",
              "damageDealt          29916\n",
              "DBNOs                   39\n",
              "headshotKills           34\n",
              "heals                   63\n",
              "killPlace              101\n",
              "killPoints            1707\n",
              "kills                   58\n",
              "killStreaks             18\n",
              "longestKill          28284\n",
              "matchDuration         1267\n",
              "matchType               16\n",
              "maxPlace               100\n",
              "numGroups              100\n",
              "rankPoints            2262\n",
              "revives                 25\n",
              "rideDistance         33562\n",
              "roadKills               14\n",
              "swimDistance         28345\n",
              "teamKills               11\n",
              "vehicleDestroys          6\n",
              "walkDistance         38599\n",
              "weaponsAcquired         97\n",
              "winPoints             1447\n",
              "winPlacePerc          3000\n",
              "dtype: int64"
            ]
          },
          "metadata": {
            "tags": []
          },
          "execution_count": 13
        }
      ]
    },
    {
      "cell_type": "markdown",
      "metadata": {
        "id": "ki46wDtoromp"
      },
      "source": [
        "###Columns with their resp. no. of unique values."
      ]
    },
    {
      "cell_type": "markdown",
      "metadata": {
        "id": "edQo4KsxjExb"
      },
      "source": [
        "#Duplicated Rows\r\n",
        "\r\n",
        "---\r\n",
        "\r\n",
        "---\r\n",
        "\r\n",
        "\r\n",
        "\r\n",
        "\r\n",
        "\r\n"
      ]
    },
    {
      "cell_type": "code",
      "metadata": {
        "colab": {
          "base_uri": "https://localhost:8080/"
        },
        "id": "eiAnlbZFjEPG",
        "outputId": "1c83d800-1242-4944-a082-ef1f6215bc0c"
      },
      "source": [
        "data[data.duplicated()].shape"
      ],
      "execution_count": 14,
      "outputs": [
        {
          "output_type": "execute_result",
          "data": {
            "text/plain": [
              "(0, 29)"
            ]
          },
          "metadata": {
            "tags": []
          },
          "execution_count": 14
        }
      ]
    },
    {
      "cell_type": "markdown",
      "metadata": {
        "id": "ZV-_h4N0jtXr"
      },
      "source": [
        "###There are 595 duplicated rows, lets remove them."
      ]
    },
    {
      "cell_type": "code",
      "metadata": {
        "id": "C8-Ctp6hklWN"
      },
      "source": [
        "data.drop(data[data.duplicated()].index,inplace = True)"
      ],
      "execution_count": 15,
      "outputs": []
    },
    {
      "cell_type": "markdown",
      "metadata": {
        "id": "JZ7gvOiWvD4q"
      },
      "source": [
        "#\"numGroups\" , \"maxPlace\"\r\n",
        "\r\n",
        "---\r\n",
        "\r\n",
        "---\r\n",
        "\r\n",
        "\r\n",
        "\r\n"
      ]
    },
    {
      "cell_type": "code",
      "metadata": {
        "colab": {
          "base_uri": "https://localhost:8080/",
          "height": 294
        },
        "id": "ij3s6zSHt9Ot",
        "outputId": "0e29c19b-d7b8-433b-b7af-7ecfeb07e3a7"
      },
      "source": [
        "data[[\"numGroups\",\"maxPlace\"]].describe()"
      ],
      "execution_count": 16,
      "outputs": [
        {
          "output_type": "execute_result",
          "data": {
            "text/html": [
              "<div>\n",
              "<style scoped>\n",
              "    .dataframe tbody tr th:only-of-type {\n",
              "        vertical-align: middle;\n",
              "    }\n",
              "\n",
              "    .dataframe tbody tr th {\n",
              "        vertical-align: top;\n",
              "    }\n",
              "\n",
              "    .dataframe thead th {\n",
              "        text-align: right;\n",
              "    }\n",
              "</style>\n",
              "<table border=\"1\" class=\"dataframe\">\n",
              "  <thead>\n",
              "    <tr style=\"text-align: right;\">\n",
              "      <th></th>\n",
              "      <th>numGroups</th>\n",
              "      <th>maxPlace</th>\n",
              "    </tr>\n",
              "  </thead>\n",
              "  <tbody>\n",
              "    <tr>\n",
              "      <th>count</th>\n",
              "      <td>4,446,966.00</td>\n",
              "      <td>4,446,966.00</td>\n",
              "    </tr>\n",
              "    <tr>\n",
              "      <th>mean</th>\n",
              "      <td>43.01</td>\n",
              "      <td>44.50</td>\n",
              "    </tr>\n",
              "    <tr>\n",
              "      <th>std</th>\n",
              "      <td>23.29</td>\n",
              "      <td>23.83</td>\n",
              "    </tr>\n",
              "    <tr>\n",
              "      <th>min</th>\n",
              "      <td>1.00</td>\n",
              "      <td>1.00</td>\n",
              "    </tr>\n",
              "    <tr>\n",
              "      <th>25%</th>\n",
              "      <td>27.00</td>\n",
              "      <td>28.00</td>\n",
              "    </tr>\n",
              "    <tr>\n",
              "      <th>50%</th>\n",
              "      <td>30.00</td>\n",
              "      <td>30.00</td>\n",
              "    </tr>\n",
              "    <tr>\n",
              "      <th>75%</th>\n",
              "      <td>47.00</td>\n",
              "      <td>49.00</td>\n",
              "    </tr>\n",
              "    <tr>\n",
              "      <th>max</th>\n",
              "      <td>100.00</td>\n",
              "      <td>100.00</td>\n",
              "    </tr>\n",
              "  </tbody>\n",
              "</table>\n",
              "</div>"
            ],
            "text/plain": [
              "         numGroups     maxPlace\n",
              "count 4,446,966.00 4,446,966.00\n",
              "mean         43.01        44.50\n",
              "std          23.29        23.83\n",
              "min           1.00         1.00\n",
              "25%          27.00        28.00\n",
              "50%          30.00        30.00\n",
              "75%          47.00        49.00\n",
              "max         100.00       100.00"
            ]
          },
          "metadata": {
            "tags": []
          },
          "execution_count": 16
        }
      ]
    },
    {
      "cell_type": "code",
      "metadata": {
        "colab": {
          "base_uri": "https://localhost:8080/",
          "height": 110
        },
        "id": "MyC7Qt3usA--",
        "outputId": "03208530-341a-4d46-a108-63f8928e72e0"
      },
      "source": [
        "data[[\"numGroups\",\"maxPlace\"]].corr()"
      ],
      "execution_count": 17,
      "outputs": [
        {
          "output_type": "execute_result",
          "data": {
            "text/html": [
              "<div>\n",
              "<style scoped>\n",
              "    .dataframe tbody tr th:only-of-type {\n",
              "        vertical-align: middle;\n",
              "    }\n",
              "\n",
              "    .dataframe tbody tr th {\n",
              "        vertical-align: top;\n",
              "    }\n",
              "\n",
              "    .dataframe thead th {\n",
              "        text-align: right;\n",
              "    }\n",
              "</style>\n",
              "<table border=\"1\" class=\"dataframe\">\n",
              "  <thead>\n",
              "    <tr style=\"text-align: right;\">\n",
              "      <th></th>\n",
              "      <th>numGroups</th>\n",
              "      <th>maxPlace</th>\n",
              "    </tr>\n",
              "  </thead>\n",
              "  <tbody>\n",
              "    <tr>\n",
              "      <th>numGroups</th>\n",
              "      <td>1.00</td>\n",
              "      <td>1.00</td>\n",
              "    </tr>\n",
              "    <tr>\n",
              "      <th>maxPlace</th>\n",
              "      <td>1.00</td>\n",
              "      <td>1.00</td>\n",
              "    </tr>\n",
              "  </tbody>\n",
              "</table>\n",
              "</div>"
            ],
            "text/plain": [
              "           numGroups  maxPlace\n",
              "numGroups       1.00      1.00\n",
              "maxPlace        1.00      1.00"
            ]
          },
          "metadata": {
            "tags": []
          },
          "execution_count": 17
        }
      ]
    },
    {
      "cell_type": "code",
      "metadata": {
        "colab": {
          "base_uri": "https://localhost:8080/",
          "height": 337
        },
        "id": "t2voTzv-GjOo",
        "outputId": "c0dae508-1c3b-4ed2-f0c1-fac0d42ad7f4"
      },
      "source": [
        "fig, ax = plt.subplots(1,2,figsize=(10,5))\r\n",
        "sns.distplot(x=data[\"numGroups\"],ax=ax[0])\r\n",
        "sns.distplot(x=data[\"maxPlace\"],ax=ax[1])"
      ],
      "execution_count": 18,
      "outputs": [
        {
          "output_type": "execute_result",
          "data": {
            "text/plain": [
              "<matplotlib.axes._subplots.AxesSubplot at 0x7feadbc05dd8>"
            ]
          },
          "metadata": {
            "tags": []
          },
          "execution_count": 18
        },
        {
          "output_type": "display_data",
          "data": {
            "image/png": "[encoded data removed]",
            "text/plain": [
              "<Figure size 720x360 with 2 Axes>"
            ]
          },
          "metadata": {
            "tags": [],
            "needs_background": "light"
          }
        }
      ]
    },
    {
      "cell_type": "markdown",
      "metadata": {
        "id": "eCQa_pIOr658"
      },
      "source": [
        "###\"numGroups\",\"maxPlace\" cols are almost similar"
      ]
    },
    {
      "cell_type": "markdown",
      "metadata": {
        "id": "TXfIIkDoyTpY"
      },
      "source": [
        "#'Id' , 'groupId' , 'matchId'\r\n",
        "\r\n",
        "---\r\n",
        "\r\n",
        "---\r\n",
        "\r\n",
        "\r\n",
        "\r\n"
      ]
    },
    {
      "cell_type": "code",
      "metadata": {
        "colab": {
          "base_uri": "https://localhost:8080/",
          "height": 172
        },
        "id": "ierU_gfaorHk",
        "outputId": "e641202f-c03a-4376-9525-735999d42041"
      },
      "source": [
        "data.describe(include=\"object\")"
      ],
      "execution_count": 19,
      "outputs": [
        {
          "output_type": "execute_result",
          "data": {
            "text/html": [
              "<div>\n",
              "<style scoped>\n",
              "    .dataframe tbody tr th:only-of-type {\n",
              "        vertical-align: middle;\n",
              "    }\n",
              "\n",
              "    .dataframe tbody tr th {\n",
              "        vertical-align: top;\n",
              "    }\n",
              "\n",
              "    .dataframe thead th {\n",
              "        text-align: right;\n",
              "    }\n",
              "</style>\n",
              "<table border=\"1\" class=\"dataframe\">\n",
              "  <thead>\n",
              "    <tr style=\"text-align: right;\">\n",
              "      <th></th>\n",
              "      <th>Id</th>\n",
              "      <th>groupId</th>\n",
              "      <th>matchId</th>\n",
              "      <th>matchType</th>\n",
              "    </tr>\n",
              "  </thead>\n",
              "  <tbody>\n",
              "    <tr>\n",
              "      <th>count</th>\n",
              "      <td>4446966</td>\n",
              "      <td>4446966</td>\n",
              "      <td>4446966</td>\n",
              "      <td>4446966</td>\n",
              "    </tr>\n",
              "    <tr>\n",
              "      <th>unique</th>\n",
              "      <td>4446966</td>\n",
              "      <td>2026745</td>\n",
              "      <td>47965</td>\n",
              "      <td>16</td>\n",
              "    </tr>\n",
              "    <tr>\n",
              "      <th>top</th>\n",
              "      <td>217f96d81bf229</td>\n",
              "      <td>14d6b54cdec6bc</td>\n",
              "      <td>5e3385da1d13b5</td>\n",
              "      <td>squad-fpp</td>\n",
              "    </tr>\n",
              "    <tr>\n",
              "      <th>freq</th>\n",
              "      <td>1</td>\n",
              "      <td>74</td>\n",
              "      <td>100</td>\n",
              "      <td>1756186</td>\n",
              "    </tr>\n",
              "  </tbody>\n",
              "</table>\n",
              "</div>"
            ],
            "text/plain": [
              "                    Id         groupId         matchId  matchType\n",
              "count          4446966         4446966         4446966    4446966\n",
              "unique         4446966         2026745           47965         16\n",
              "top     217f96d81bf229  14d6b54cdec6bc  5e3385da1d13b5  squad-fpp\n",
              "freq                 1              74             100    1756186"
            ]
          },
          "metadata": {
            "tags": []
          },
          "execution_count": 19
        }
      ]
    },
    {
      "cell_type": "markdown",
      "metadata": {
        "id": "EkQmLE8kNT2s"
      },
      "source": [
        "###We see these three columns are highly cardinal."
      ]
    },
    {
      "cell_type": "markdown",
      "metadata": {
        "id": "1cdewEj9ynSu"
      },
      "source": [
        "#\"matchType\"\r\n",
        "\r\n",
        "---\r\n",
        "\r\n",
        "---\r\n",
        "\r\n",
        "\r\n",
        "\r\n"
      ]
    },
    {
      "cell_type": "markdown",
      "metadata": {
        "id": "eTnt5JWpNvMY"
      },
      "source": [
        "###Let's check the frequency of MatchType."
      ]
    },
    {
      "cell_type": "code",
      "metadata": {
        "colab": {
          "base_uri": "https://localhost:8080/",
          "height": 458
        },
        "id": "2jU2sfX3vjE0",
        "outputId": "964cabc6-c272-4b28-d69c-3094b8329a50"
      },
      "source": [
        "plt.figure(figsize=(10,5))\r\n",
        "sns.countplot(x=data[\"matchType\"])\r\n",
        "plt.xticks(rotation=90)"
      ],
      "execution_count": 20,
      "outputs": [
        {
          "output_type": "execute_result",
          "data": {
            "text/plain": [
              "(array([ 0,  1,  2,  3,  4,  5,  6,  7,  8,  9, 10, 11, 12, 13, 14, 15]),\n",
              " <a list of 16 Text major ticklabel objects>)"
            ]
          },
          "metadata": {
            "tags": []
          },
          "execution_count": 20
        },
        {
          "output_type": "display_data",
          "data": {
            "image/png": "[encoded data removed]",
            "text/plain": [
              "<Figure size 720x360 with 1 Axes>"
            ]
          },
          "metadata": {
            "tags": [],
            "needs_background": "light"
          }
        }
      ]
    },
    {
      "cell_type": "code",
      "metadata": {
        "colab": {
          "base_uri": "https://localhost:8080/",
          "height": 1000
        },
        "id": "3B4QXmK8_omi",
        "outputId": "6e8914cd-b733-427e-b327-66a0ab56d1d6"
      },
      "source": [
        "fig, ax = plt.subplots(9,1,figsize=(40,55)) \r\n",
        "sns.boxplot(y=data[\"maxPlace\"],x=data[\"matchType\"],ax=ax[0])\r\n",
        "sns.boxplot(y=data[\"numGroups\"],x=data[\"matchType\"],ax=ax[1])\r\n",
        "sns.boxplot(y=data[\"matchDuration\"],x=data[\"matchType\"],ax=ax[2])\r\n",
        "sns.boxplot(y=data[\"kills\"],x=data[\"matchType\"],ax=ax[3])\r\n",
        "sns.boxplot(y=data[\"damageDealt\"],x=data[\"matchType\"],ax=ax[4])\r\n",
        "sns.boxplot(y=data[\"boosts\"],x=data[\"matchType\"],ax=ax[5])\r\n",
        "sns.boxplot(y=data[\"walkDistance\"],x=data[\"matchType\"],ax=ax[6])\r\n",
        "sns.boxplot(y=data[\"killPlace\"],x=data[\"matchType\"],ax=ax[7])\r\n",
        "sns.boxplot(y=data[\"weaponsAcquired\"],x=data[\"matchType\"],ax=ax[8])"
      ],
      "execution_count": 21,
      "outputs": [
        {
          "output_type": "execute_result",
          "data": {
            "text/plain": [
              "<matplotlib.axes._subplots.AxesSubplot at 0x7fead2085a90>"
            ]
          },
          "metadata": {
            "tags": []
          },
          "execution_count": 21
        },
        {
          "output_type": "display_data",
          "data": {
            "image/png": "[encoded data removed]",
            "text/plain": [
              "<Figure size 2880x3960 with 9 Axes>"
            ]
          },
          "metadata": {
            "tags": [],
            "needs_background": "light"
          }
        }
      ]
    },
    {
      "cell_type": "code",
      "metadata": {
        "colab": {
          "base_uri": "https://localhost:8080/",
          "height": 304
        },
        "id": "D8XQwm51awL6",
        "outputId": "82a351d7-ddb8-4443-debf-d7a468b27fcb"
      },
      "source": [
        "type_play = lambda x: 'solo' if ('solo' in x) else 'duo' if ('duo' in x) or ('crash' in x) else 'squad'\r\n",
        "data['matchType3'] = data['matchType'].apply(type_play)\r\n",
        "data.groupby('matchId')['matchType3'].first().value_counts().plot.bar()"
      ],
      "execution_count": 22,
      "outputs": [
        {
          "output_type": "execute_result",
          "data": {
            "text/plain": [
              "<matplotlib.axes._subplots.AxesSubplot at 0x7fead12b5908>"
            ]
          },
          "metadata": {
            "tags": []
          },
          "execution_count": 22
        },
        {
          "output_type": "display_data",
          "data": {
            "image/png": "[encoded data removed]",
            "text/plain": [
              "<Figure size 432x288 with 1 Axes>"
            ]
          },
          "metadata": {
            "tags": [],
            "needs_background": "light"
          }
        }
      ]
    },
    {
      "cell_type": "code",
      "metadata": {
        "colab": {
          "base_uri": "https://localhost:8080/"
        },
        "id": "Am5iUeFSlhvk",
        "outputId": "09ff3fb8-a1e3-46b2-a2d9-ffab5c1688b6"
      },
      "source": [
        "data.drop(['Id','groupId','matchId'],inplace=True, axis = 1)\r\n",
        "print(\"Done.\")"
      ],
      "execution_count": 23,
      "outputs": [
        {
          "output_type": "stream",
          "text": [
            "Done.\n"
          ],
          "name": "stdout"
        }
      ]
    },
    {
      "cell_type": "markdown",
      "metadata": {
        "id": "iEEN5fuFQdoB"
      },
      "source": [
        "#'Kills'\r\n",
        "\r\n",
        "---\r\n",
        "\r\n",
        "---\r\n",
        "\r\n",
        "\r\n",
        "\r\n",
        "\r\n",
        "\r\n",
        "\r\n"
      ]
    },
    {
      "cell_type": "code",
      "metadata": {
        "colab": {
          "base_uri": "https://localhost:8080/",
          "height": 905
        },
        "id": "9oFRmxXBUtPd",
        "outputId": "46d6fa79-442d-4645-c579-2ed87eae8d8f"
      },
      "source": [
        "plt.figure(figsize=(20,15))\r\n",
        "sns.countplot(data['kills'])"
      ],
      "execution_count": 24,
      "outputs": [
        {
          "output_type": "execute_result",
          "data": {
            "text/plain": [
              "<matplotlib.axes._subplots.AxesSubplot at 0x7fead1374fd0>"
            ]
          },
          "metadata": {
            "tags": []
          },
          "execution_count": 24
        },
        {
          "output_type": "display_data",
          "data": {
            "image/png": "[encoded data removed]",
            "text/plain": [
              "<Figure size 1440x1080 with 1 Axes>"
            ]
          },
          "metadata": {
            "tags": [],
            "needs_background": "light"
          }
        }
      ]
    },
    {
      "cell_type": "markdown",
      "metadata": {
        "id": "Tm68_nREeoiP"
      },
      "source": [
        "###We see there are outliers in no. of kills.So lets check whether higher kills like 72 is in real or work of a hacker.Lets group the kills."
      ]
    },
    {
      "cell_type": "code",
      "metadata": {
        "id": "Ve0CFHVT8D8E"
      },
      "source": [
        "data['kill_grp'] = pd.cut(data['kills'],[-1,0,2,4,6,8,10,80],labels=['kill 0','kill 1-2','kill 3-4','kill 5-6','kill 7-8','kill 9-10','kill 10+'])"
      ],
      "execution_count": 25,
      "outputs": []
    },
    {
      "cell_type": "code",
      "metadata": {
        "colab": {
          "base_uri": "https://localhost:8080/",
          "height": 634
        },
        "id": "aTcEPNXo8MwI",
        "outputId": "7a79c445-4c19-464e-df95-718cc78be68f"
      },
      "source": [
        "plt.figure(figsize=(20,10))\r\n",
        "sns.countplot(data['kill_grp'])"
      ],
      "execution_count": 26,
      "outputs": [
        {
          "output_type": "execute_result",
          "data": {
            "text/plain": [
              "<matplotlib.axes._subplots.AxesSubplot at 0x7fead13251d0>"
            ]
          },
          "metadata": {
            "tags": []
          },
          "execution_count": 26
        },
        {
          "output_type": "display_data",
          "data": {
            "image/png": "[encoded data removed]",
            "text/plain": [
              "<Figure size 1440x720 with 1 Axes>"
            ]
          },
          "metadata": {
            "tags": [],
            "needs_background": "light"
          }
        }
      ]
    },
    {
      "cell_type": "markdown",
      "metadata": {
        "id": "ddL3C3at8xcM"
      },
      "source": [
        "###Max people had 0 kill and very few have more than 5+ kills."
      ]
    },
    {
      "cell_type": "code",
      "metadata": {
        "colab": {
          "base_uri": "https://localhost:8080/"
        },
        "id": "5zM9uvfN9Mzk",
        "outputId": "fa9679e2-f20c-4881-c7bf-cc789457a250"
      },
      "source": [
        "print('{} % people did not move a metre yet got more than 1 kills.'.format(100*len(data[(data['rideDistance']==0) & (data['walkDistance']==0) & (data['swimDistance']==0) & (data['kills']>1)])/len(data)))"
      ],
      "execution_count": 27,
      "outputs": [
        {
          "output_type": "stream",
          "text": [
            "0.02482591501711504 % people did not move a metre yet got more than 1 kills.\n"
          ],
          "name": "stdout"
        }
      ]
    },
    {
      "cell_type": "code",
      "metadata": {
        "id": "vZc3a7RRJ8A0"
      },
      "source": [
        "data.drop(data[(data['rideDistance']==0) & (data['walkDistance']==0) & (data['swimDistance']==0) & (data['kills']>1)].index,inplace = True)"
      ],
      "execution_count": 28,
      "outputs": []
    },
    {
      "cell_type": "markdown",
      "metadata": {
        "id": "Z03Hn9n9MJ43"
      },
      "source": [
        "#\"Heals\"\r\n",
        "\r\n",
        "---\r\n",
        "\r\n",
        "---\r\n",
        "\r\n",
        "\r\n",
        "\r\n",
        "\r\n",
        "\r\n"
      ]
    },
    {
      "cell_type": "code",
      "metadata": {
        "colab": {
          "base_uri": "https://localhost:8080/",
          "height": 1000
        },
        "id": "t6DjWpn1LmZD",
        "outputId": "34b3ffc4-15d2-4c57-c630-88d442625424"
      },
      "source": [
        "data['heal_cat'] = pd.cut(data['heals'],(-1,0,2,4,6,8,10,12,90),labels=['0','1-2','3-4','5-6','7-8 ','9-10','11-12','12+'])\r\n",
        "\r\n",
        "plt.figure(figsize=(20,15))\r\n",
        "sns.boxplot(data['heal_cat'],data['winPlacePerc'])\r\n",
        "plt.title(\"HEAL ANALYSIS\")\r\n",
        "plt.xlabel(\"number of heals used\")\r\n",
        "plt.ylabel(\"Win\")\r\n",
        "plt.tight_layout()"
      ],
      "execution_count": 29,
      "outputs": [
        {
          "output_type": "display_data",
          "data": {
            "image/png": "[encoded data removed]",
            "text/plain": [
              "<Figure size 1440x1080 with 1 Axes>"
            ]
          },
          "metadata": {
            "tags": [],
            "needs_background": "light"
          }
        }
      ]
    },
    {
      "cell_type": "markdown",
      "metadata": {
        "id": "o4n2iQXQbrVZ"
      },
      "source": [
        "###People using more than 6 heals has higher chances of winning.It could be because they killed alot or had too many damages while walking or fighting."
      ]
    },
    {
      "cell_type": "code",
      "metadata": {
        "colab": {
          "base_uri": "https://localhost:8080/",
          "height": 530
        },
        "id": "jUHJzr32NxZq",
        "outputId": "286bd2cb-bb17-4c22-ac01-d9ae7cf40d1d"
      },
      "source": [
        "plt.figure(figsize=(10,5))\r\n",
        "g = sns.FacetGrid(data,  col='heal_cat', height=3.5,col_wrap=4)\r\n",
        "g.map(plt.scatter,\"kill_grp\",\"damageDealt\")\r\n",
        "plt.show()"
      ],
      "execution_count": 30,
      "outputs": [
        {
          "output_type": "display_data",
          "data": {
            "text/plain": [
              "<Figure size 720x360 with 0 Axes>"
            ]
          },
          "metadata": {
            "tags": []
          }
        },
        {
          "output_type": "display_data",
          "data": {
            "image/png": "[encoded data removed]",
            "text/plain": [
              "<Figure size 1008x504 with 8 Axes>"
            ]
          },
          "metadata": {
            "tags": [],
            "needs_background": "light"
          }
        }
      ]
    },
    {
      "cell_type": "markdown",
      "metadata": {
        "id": "noT7bfqtcJNI"
      },
      "source": [
        "###We see people having more than 10+ kills use 0 heals and we also see that people with 0 kills uses 12+ heals."
      ]
    },
    {
      "cell_type": "code",
      "metadata": {
        "colab": {
          "base_uri": "https://localhost:8080/",
          "height": 574
        },
        "id": "mOaquJJ0ZpZ1",
        "outputId": "43e66975-abb7-402d-a650-a3453bd75670"
      },
      "source": [
        "data[(data['heals']==0) & (data['kills']>10)]"
      ],
      "execution_count": 31,
      "outputs": [
        {
          "output_type": "execute_result",
          "data": {
            "text/html": [
              "<div>\n",
              "<style scoped>\n",
              "    .dataframe tbody tr th:only-of-type {\n",
              "        vertical-align: middle;\n",
              "    }\n",
              "\n",
              "    .dataframe tbody tr th {\n",
              "        vertical-align: top;\n",
              "    }\n",
              "\n",
              "    .dataframe thead th {\n",
              "        text-align: right;\n",
              "    }\n",
              "</style>\n",
              "<table border=\"1\" class=\"dataframe\">\n",
              "  <thead>\n",
              "    <tr style=\"text-align: right;\">\n",
              "      <th></th>\n",
              "      <th>assists</th>\n",
              "      <th>boosts</th>\n",
              "      <th>damageDealt</th>\n",
              "      <th>DBNOs</th>\n",
              "      <th>headshotKills</th>\n",
              "      <th>heals</th>\n",
              "      <th>killPlace</th>\n",
              "      <th>killPoints</th>\n",
              "      <th>kills</th>\n",
              "      <th>killStreaks</th>\n",
              "      <th>longestKill</th>\n",
              "      <th>matchDuration</th>\n",
              "      <th>matchType</th>\n",
              "      <th>maxPlace</th>\n",
              "      <th>numGroups</th>\n",
              "      <th>rankPoints</th>\n",
              "      <th>revives</th>\n",
              "      <th>rideDistance</th>\n",
              "      <th>roadKills</th>\n",
              "      <th>swimDistance</th>\n",
              "      <th>teamKills</th>\n",
              "      <th>vehicleDestroys</th>\n",
              "      <th>walkDistance</th>\n",
              "      <th>weaponsAcquired</th>\n",
              "      <th>winPoints</th>\n",
              "      <th>winPlacePerc</th>\n",
              "      <th>matchType3</th>\n",
              "      <th>kill_grp</th>\n",
              "      <th>heal_cat</th>\n",
              "    </tr>\n",
              "  </thead>\n",
              "  <tbody>\n",
              "    <tr>\n",
              "      <th>12668</th>\n",
              "      <td>1</td>\n",
              "      <td>9</td>\n",
              "      <td>1,191.00</td>\n",
              "      <td>7</td>\n",
              "      <td>1</td>\n",
              "      <td>0</td>\n",
              "      <td>1</td>\n",
              "      <td>0</td>\n",
              "      <td>11</td>\n",
              "      <td>2</td>\n",
              "      <td>195.80</td>\n",
              "      <td>1386</td>\n",
              "      <td>squad-fpp</td>\n",
              "      <td>28</td>\n",
              "      <td>27</td>\n",
              "      <td>1805</td>\n",
              "      <td>1</td>\n",
              "      <td>1,224.00</td>\n",
              "      <td>0</td>\n",
              "      <td>0.00</td>\n",
              "      <td>0</td>\n",
              "      <td>0</td>\n",
              "      <td>3,369.00</td>\n",
              "      <td>8</td>\n",
              "      <td>0</td>\n",
              "      <td>1.00</td>\n",
              "      <td>squad</td>\n",
              "      <td>kill 10+</td>\n",
              "      <td>0</td>\n",
              "    </tr>\n",
              "    <tr>\n",
              "      <th>13131</th>\n",
              "      <td>2</td>\n",
              "      <td>0</td>\n",
              "      <td>1,205.00</td>\n",
              "      <td>5</td>\n",
              "      <td>0</td>\n",
              "      <td>0</td>\n",
              "      <td>1</td>\n",
              "      <td>0</td>\n",
              "      <td>13</td>\n",
              "      <td>4</td>\n",
              "      <td>33.43</td>\n",
              "      <td>875</td>\n",
              "      <td>crashfpp</td>\n",
              "      <td>47</td>\n",
              "      <td>45</td>\n",
              "      <td>1500</td>\n",
              "      <td>0</td>\n",
              "      <td>3,484.00</td>\n",
              "      <td>1</td>\n",
              "      <td>0.00</td>\n",
              "      <td>0</td>\n",
              "      <td>2</td>\n",
              "      <td>1,153.00</td>\n",
              "      <td>1</td>\n",
              "      <td>0</td>\n",
              "      <td>1.00</td>\n",
              "      <td>duo</td>\n",
              "      <td>kill 10+</td>\n",
              "      <td>0</td>\n",
              "    </tr>\n",
              "    <tr>\n",
              "      <th>13418</th>\n",
              "      <td>3</td>\n",
              "      <td>0</td>\n",
              "      <td>1,169.00</td>\n",
              "      <td>0</td>\n",
              "      <td>4</td>\n",
              "      <td>0</td>\n",
              "      <td>8</td>\n",
              "      <td>1000</td>\n",
              "      <td>14</td>\n",
              "      <td>2</td>\n",
              "      <td>121.80</td>\n",
              "      <td>769</td>\n",
              "      <td>normal-squad-fpp</td>\n",
              "      <td>8</td>\n",
              "      <td>8</td>\n",
              "      <td>-1</td>\n",
              "      <td>0</td>\n",
              "      <td>0.00</td>\n",
              "      <td>0</td>\n",
              "      <td>0.00</td>\n",
              "      <td>0</td>\n",
              "      <td>0</td>\n",
              "      <td>122.90</td>\n",
              "      <td>26</td>\n",
              "      <td>1500</td>\n",
              "      <td>0.86</td>\n",
              "      <td>squad</td>\n",
              "      <td>kill 10+</td>\n",
              "      <td>0</td>\n",
              "    </tr>\n",
              "    <tr>\n",
              "      <th>19531</th>\n",
              "      <td>9</td>\n",
              "      <td>0</td>\n",
              "      <td>2,856.00</td>\n",
              "      <td>32</td>\n",
              "      <td>3</td>\n",
              "      <td>0</td>\n",
              "      <td>1</td>\n",
              "      <td>0</td>\n",
              "      <td>24</td>\n",
              "      <td>4</td>\n",
              "      <td>84.23</td>\n",
              "      <td>1195</td>\n",
              "      <td>normal-squad-fpp</td>\n",
              "      <td>6</td>\n",
              "      <td>6</td>\n",
              "      <td>1500</td>\n",
              "      <td>0</td>\n",
              "      <td>0.00</td>\n",
              "      <td>0</td>\n",
              "      <td>0.00</td>\n",
              "      <td>0</td>\n",
              "      <td>0</td>\n",
              "      <td>1,136.00</td>\n",
              "      <td>20</td>\n",
              "      <td>0</td>\n",
              "      <td>0.80</td>\n",
              "      <td>squad</td>\n",
              "      <td>kill 10+</td>\n",
              "      <td>0</td>\n",
              "    </tr>\n",
              "    <tr>\n",
              "      <th>22389</th>\n",
              "      <td>2</td>\n",
              "      <td>0</td>\n",
              "      <td>1,324.00</td>\n",
              "      <td>0</td>\n",
              "      <td>2</td>\n",
              "      <td>0</td>\n",
              "      <td>4</td>\n",
              "      <td>1000</td>\n",
              "      <td>18</td>\n",
              "      <td>3</td>\n",
              "      <td>114.00</td>\n",
              "      <td>936</td>\n",
              "      <td>normal-squad-fpp</td>\n",
              "      <td>5</td>\n",
              "      <td>5</td>\n",
              "      <td>-1</td>\n",
              "      <td>0</td>\n",
              "      <td>0.00</td>\n",
              "      <td>0</td>\n",
              "      <td>0.00</td>\n",
              "      <td>0</td>\n",
              "      <td>0</td>\n",
              "      <td>35.21</td>\n",
              "      <td>28</td>\n",
              "      <td>1500</td>\n",
              "      <td>0.50</td>\n",
              "      <td>squad</td>\n",
              "      <td>kill 10+</td>\n",
              "      <td>0</td>\n",
              "    </tr>\n",
              "    <tr>\n",
              "      <th>...</th>\n",
              "      <td>...</td>\n",
              "      <td>...</td>\n",
              "      <td>...</td>\n",
              "      <td>...</td>\n",
              "      <td>...</td>\n",
              "      <td>...</td>\n",
              "      <td>...</td>\n",
              "      <td>...</td>\n",
              "      <td>...</td>\n",
              "      <td>...</td>\n",
              "      <td>...</td>\n",
              "      <td>...</td>\n",
              "      <td>...</td>\n",
              "      <td>...</td>\n",
              "      <td>...</td>\n",
              "      <td>...</td>\n",
              "      <td>...</td>\n",
              "      <td>...</td>\n",
              "      <td>...</td>\n",
              "      <td>...</td>\n",
              "      <td>...</td>\n",
              "      <td>...</td>\n",
              "      <td>...</td>\n",
              "      <td>...</td>\n",
              "      <td>...</td>\n",
              "      <td>...</td>\n",
              "      <td>...</td>\n",
              "      <td>...</td>\n",
              "      <td>...</td>\n",
              "    </tr>\n",
              "    <tr>\n",
              "      <th>4413845</th>\n",
              "      <td>1</td>\n",
              "      <td>0</td>\n",
              "      <td>1,101.00</td>\n",
              "      <td>0</td>\n",
              "      <td>7</td>\n",
              "      <td>0</td>\n",
              "      <td>7</td>\n",
              "      <td>1000</td>\n",
              "      <td>11</td>\n",
              "      <td>2</td>\n",
              "      <td>63.82</td>\n",
              "      <td>1083</td>\n",
              "      <td>normal-solo</td>\n",
              "      <td>9</td>\n",
              "      <td>8</td>\n",
              "      <td>-1</td>\n",
              "      <td>0</td>\n",
              "      <td>0.00</td>\n",
              "      <td>0</td>\n",
              "      <td>0.00</td>\n",
              "      <td>0</td>\n",
              "      <td>0</td>\n",
              "      <td>348.60</td>\n",
              "      <td>21</td>\n",
              "      <td>1500</td>\n",
              "      <td>0.25</td>\n",
              "      <td>solo</td>\n",
              "      <td>kill 10+</td>\n",
              "      <td>0</td>\n",
              "    </tr>\n",
              "    <tr>\n",
              "      <th>4418629</th>\n",
              "      <td>4</td>\n",
              "      <td>0</td>\n",
              "      <td>1,634.00</td>\n",
              "      <td>0</td>\n",
              "      <td>2</td>\n",
              "      <td>0</td>\n",
              "      <td>7</td>\n",
              "      <td>0</td>\n",
              "      <td>14</td>\n",
              "      <td>2</td>\n",
              "      <td>52.12</td>\n",
              "      <td>895</td>\n",
              "      <td>normal-solo-fpp</td>\n",
              "      <td>20</td>\n",
              "      <td>16</td>\n",
              "      <td>1500</td>\n",
              "      <td>0</td>\n",
              "      <td>3,652.00</td>\n",
              "      <td>0</td>\n",
              "      <td>0.00</td>\n",
              "      <td>0</td>\n",
              "      <td>0</td>\n",
              "      <td>1,026.00</td>\n",
              "      <td>34</td>\n",
              "      <td>0</td>\n",
              "      <td>0.68</td>\n",
              "      <td>solo</td>\n",
              "      <td>kill 10+</td>\n",
              "      <td>0</td>\n",
              "    </tr>\n",
              "    <tr>\n",
              "      <th>4422538</th>\n",
              "      <td>3</td>\n",
              "      <td>1</td>\n",
              "      <td>1,389.00</td>\n",
              "      <td>0</td>\n",
              "      <td>8</td>\n",
              "      <td>0</td>\n",
              "      <td>1</td>\n",
              "      <td>1000</td>\n",
              "      <td>16</td>\n",
              "      <td>3</td>\n",
              "      <td>140.30</td>\n",
              "      <td>890</td>\n",
              "      <td>normal-duo-fpp</td>\n",
              "      <td>6</td>\n",
              "      <td>5</td>\n",
              "      <td>-1</td>\n",
              "      <td>0</td>\n",
              "      <td>0.00</td>\n",
              "      <td>0</td>\n",
              "      <td>0.00</td>\n",
              "      <td>0</td>\n",
              "      <td>0</td>\n",
              "      <td>699.10</td>\n",
              "      <td>16</td>\n",
              "      <td>1500</td>\n",
              "      <td>1.00</td>\n",
              "      <td>duo</td>\n",
              "      <td>kill 10+</td>\n",
              "      <td>0</td>\n",
              "    </tr>\n",
              "    <tr>\n",
              "      <th>4426908</th>\n",
              "      <td>3</td>\n",
              "      <td>1</td>\n",
              "      <td>1,000.00</td>\n",
              "      <td>10</td>\n",
              "      <td>1</td>\n",
              "      <td>0</td>\n",
              "      <td>13</td>\n",
              "      <td>0</td>\n",
              "      <td>12</td>\n",
              "      <td>2</td>\n",
              "      <td>39.00</td>\n",
              "      <td>1195</td>\n",
              "      <td>normal-squad-fpp</td>\n",
              "      <td>6</td>\n",
              "      <td>6</td>\n",
              "      <td>1500</td>\n",
              "      <td>4</td>\n",
              "      <td>0.00</td>\n",
              "      <td>0</td>\n",
              "      <td>0.00</td>\n",
              "      <td>0</td>\n",
              "      <td>0</td>\n",
              "      <td>191.10</td>\n",
              "      <td>28</td>\n",
              "      <td>0</td>\n",
              "      <td>1.00</td>\n",
              "      <td>squad</td>\n",
              "      <td>kill 10+</td>\n",
              "      <td>0</td>\n",
              "    </tr>\n",
              "    <tr>\n",
              "      <th>4427954</th>\n",
              "      <td>1</td>\n",
              "      <td>1</td>\n",
              "      <td>1,744.00</td>\n",
              "      <td>0</td>\n",
              "      <td>3</td>\n",
              "      <td>0</td>\n",
              "      <td>2</td>\n",
              "      <td>0</td>\n",
              "      <td>18</td>\n",
              "      <td>4</td>\n",
              "      <td>115.40</td>\n",
              "      <td>776</td>\n",
              "      <td>normal-squad-fpp</td>\n",
              "      <td>8</td>\n",
              "      <td>7</td>\n",
              "      <td>1500</td>\n",
              "      <td>0</td>\n",
              "      <td>0.00</td>\n",
              "      <td>0</td>\n",
              "      <td>0.00</td>\n",
              "      <td>2</td>\n",
              "      <td>0</td>\n",
              "      <td>167.60</td>\n",
              "      <td>13</td>\n",
              "      <td>0</td>\n",
              "      <td>0.43</td>\n",
              "      <td>squad</td>\n",
              "      <td>kill 10+</td>\n",
              "      <td>0</td>\n",
              "    </tr>\n",
              "  </tbody>\n",
              "</table>\n",
              "<p>863 rows × 29 columns</p>\n",
              "</div>"
            ],
            "text/plain": [
              "         assists  boosts  damageDealt  ...  matchType3  kill_grp  heal_cat\n",
              "12668          1       9     1,191.00  ...       squad  kill 10+         0\n",
              "13131          2       0     1,205.00  ...         duo  kill 10+         0\n",
              "13418          3       0     1,169.00  ...       squad  kill 10+         0\n",
              "19531          9       0     2,856.00  ...       squad  kill 10+         0\n",
              "22389          2       0     1,324.00  ...       squad  kill 10+         0\n",
              "...          ...     ...          ...  ...         ...       ...       ...\n",
              "4413845        1       0     1,101.00  ...        solo  kill 10+         0\n",
              "4418629        4       0     1,634.00  ...        solo  kill 10+         0\n",
              "4422538        3       1     1,389.00  ...         duo  kill 10+         0\n",
              "4426908        3       1     1,000.00  ...       squad  kill 10+         0\n",
              "4427954        1       1     1,744.00  ...       squad  kill 10+         0\n",
              "\n",
              "[863 rows x 29 columns]"
            ]
          },
          "metadata": {
            "tags": []
          },
          "execution_count": 31
        }
      ]
    },
    {
      "cell_type": "markdown",
      "metadata": {
        "id": "ButZIbf1a965"
      },
      "source": [
        "###It is obvious that you can't get high kills with no boosts.It is sure the work of a hacker so lets remove them."
      ]
    },
    {
      "cell_type": "code",
      "metadata": {
        "id": "awsCLRHea1I4"
      },
      "source": [
        "data.drop(data[(data['heals']==0) & (data['kills']>11)].index,inplace = True)"
      ],
      "execution_count": 32,
      "outputs": []
    },
    {
      "cell_type": "code",
      "metadata": {
        "colab": {
          "base_uri": "https://localhost:8080/",
          "height": 436
        },
        "id": "O4EZSlCBeesf",
        "outputId": "9cdeb2dc-aea2-4b8f-93d1-234eb0e726fe"
      },
      "source": [
        "data[(data['heals']>10) & (data['kills']==0) & (data['damageDealt']==0)]"
      ],
      "execution_count": 33,
      "outputs": [
        {
          "output_type": "execute_result",
          "data": {
            "text/html": [
              "<div>\n",
              "<style scoped>\n",
              "    .dataframe tbody tr th:only-of-type {\n",
              "        vertical-align: middle;\n",
              "    }\n",
              "\n",
              "    .dataframe tbody tr th {\n",
              "        vertical-align: top;\n",
              "    }\n",
              "\n",
              "    .dataframe thead th {\n",
              "        text-align: right;\n",
              "    }\n",
              "</style>\n",
              "<table border=\"1\" class=\"dataframe\">\n",
              "  <thead>\n",
              "    <tr style=\"text-align: right;\">\n",
              "      <th></th>\n",
              "      <th>assists</th>\n",
              "      <th>boosts</th>\n",
              "      <th>damageDealt</th>\n",
              "      <th>DBNOs</th>\n",
              "      <th>headshotKills</th>\n",
              "      <th>heals</th>\n",
              "      <th>killPlace</th>\n",
              "      <th>killPoints</th>\n",
              "      <th>kills</th>\n",
              "      <th>killStreaks</th>\n",
              "      <th>longestKill</th>\n",
              "      <th>matchDuration</th>\n",
              "      <th>matchType</th>\n",
              "      <th>maxPlace</th>\n",
              "      <th>numGroups</th>\n",
              "      <th>rankPoints</th>\n",
              "      <th>revives</th>\n",
              "      <th>rideDistance</th>\n",
              "      <th>roadKills</th>\n",
              "      <th>swimDistance</th>\n",
              "      <th>teamKills</th>\n",
              "      <th>vehicleDestroys</th>\n",
              "      <th>walkDistance</th>\n",
              "      <th>weaponsAcquired</th>\n",
              "      <th>winPoints</th>\n",
              "      <th>winPlacePerc</th>\n",
              "      <th>matchType3</th>\n",
              "      <th>kill_grp</th>\n",
              "      <th>heal_cat</th>\n",
              "    </tr>\n",
              "  </thead>\n",
              "  <tbody>\n",
              "    <tr>\n",
              "      <th>72</th>\n",
              "      <td>0</td>\n",
              "      <td>3</td>\n",
              "      <td>0.00</td>\n",
              "      <td>0</td>\n",
              "      <td>0</td>\n",
              "      <td>13</td>\n",
              "      <td>49</td>\n",
              "      <td>0</td>\n",
              "      <td>0</td>\n",
              "      <td>0</td>\n",
              "      <td>0.00</td>\n",
              "      <td>1358</td>\n",
              "      <td>squad-fpp</td>\n",
              "      <td>30</td>\n",
              "      <td>30</td>\n",
              "      <td>1531</td>\n",
              "      <td>0</td>\n",
              "      <td>0.00</td>\n",
              "      <td>0</td>\n",
              "      <td>0.00</td>\n",
              "      <td>1</td>\n",
              "      <td>0</td>\n",
              "      <td>3,165.00</td>\n",
              "      <td>7</td>\n",
              "      <td>0</td>\n",
              "      <td>0.97</td>\n",
              "      <td>squad</td>\n",
              "      <td>kill 0</td>\n",
              "      <td>12+</td>\n",
              "    </tr>\n",
              "    <tr>\n",
              "      <th>2296</th>\n",
              "      <td>0</td>\n",
              "      <td>5</td>\n",
              "      <td>0.00</td>\n",
              "      <td>0</td>\n",
              "      <td>0</td>\n",
              "      <td>29</td>\n",
              "      <td>45</td>\n",
              "      <td>0</td>\n",
              "      <td>0</td>\n",
              "      <td>0</td>\n",
              "      <td>0.00</td>\n",
              "      <td>1882</td>\n",
              "      <td>solo</td>\n",
              "      <td>96</td>\n",
              "      <td>94</td>\n",
              "      <td>1508</td>\n",
              "      <td>0</td>\n",
              "      <td>759.00</td>\n",
              "      <td>0</td>\n",
              "      <td>0.00</td>\n",
              "      <td>0</td>\n",
              "      <td>1</td>\n",
              "      <td>2,042.00</td>\n",
              "      <td>6</td>\n",
              "      <td>0</td>\n",
              "      <td>0.93</td>\n",
              "      <td>solo</td>\n",
              "      <td>kill 0</td>\n",
              "      <td>12+</td>\n",
              "    </tr>\n",
              "    <tr>\n",
              "      <th>2631</th>\n",
              "      <td>0</td>\n",
              "      <td>2</td>\n",
              "      <td>0.00</td>\n",
              "      <td>0</td>\n",
              "      <td>0</td>\n",
              "      <td>11</td>\n",
              "      <td>48</td>\n",
              "      <td>1425</td>\n",
              "      <td>0</td>\n",
              "      <td>0</td>\n",
              "      <td>0.00</td>\n",
              "      <td>1364</td>\n",
              "      <td>duo-fpp</td>\n",
              "      <td>48</td>\n",
              "      <td>45</td>\n",
              "      <td>-1</td>\n",
              "      <td>0</td>\n",
              "      <td>2,393.00</td>\n",
              "      <td>0</td>\n",
              "      <td>0.00</td>\n",
              "      <td>0</td>\n",
              "      <td>0</td>\n",
              "      <td>791.30</td>\n",
              "      <td>5</td>\n",
              "      <td>1656</td>\n",
              "      <td>0.70</td>\n",
              "      <td>duo</td>\n",
              "      <td>kill 0</td>\n",
              "      <td>11-12</td>\n",
              "    </tr>\n",
              "    <tr>\n",
              "      <th>2837</th>\n",
              "      <td>0</td>\n",
              "      <td>3</td>\n",
              "      <td>0.00</td>\n",
              "      <td>1</td>\n",
              "      <td>0</td>\n",
              "      <td>11</td>\n",
              "      <td>50</td>\n",
              "      <td>0</td>\n",
              "      <td>0</td>\n",
              "      <td>0</td>\n",
              "      <td>0.00</td>\n",
              "      <td>1886</td>\n",
              "      <td>duo</td>\n",
              "      <td>50</td>\n",
              "      <td>46</td>\n",
              "      <td>1504</td>\n",
              "      <td>0</td>\n",
              "      <td>5,725.00</td>\n",
              "      <td>0</td>\n",
              "      <td>0.00</td>\n",
              "      <td>0</td>\n",
              "      <td>0</td>\n",
              "      <td>2,085.00</td>\n",
              "      <td>6</td>\n",
              "      <td>0</td>\n",
              "      <td>0.67</td>\n",
              "      <td>duo</td>\n",
              "      <td>kill 0</td>\n",
              "      <td>11-12</td>\n",
              "    </tr>\n",
              "    <tr>\n",
              "      <th>3157</th>\n",
              "      <td>0</td>\n",
              "      <td>6</td>\n",
              "      <td>0.00</td>\n",
              "      <td>0</td>\n",
              "      <td>0</td>\n",
              "      <td>17</td>\n",
              "      <td>42</td>\n",
              "      <td>0</td>\n",
              "      <td>0</td>\n",
              "      <td>0</td>\n",
              "      <td>0.00</td>\n",
              "      <td>1425</td>\n",
              "      <td>solo-fpp</td>\n",
              "      <td>86</td>\n",
              "      <td>84</td>\n",
              "      <td>1757</td>\n",
              "      <td>0</td>\n",
              "      <td>1,232.00</td>\n",
              "      <td>0</td>\n",
              "      <td>0.00</td>\n",
              "      <td>0</td>\n",
              "      <td>0</td>\n",
              "      <td>2,490.00</td>\n",
              "      <td>6</td>\n",
              "      <td>0</td>\n",
              "      <td>0.92</td>\n",
              "      <td>solo</td>\n",
              "      <td>kill 0</td>\n",
              "      <td>12+</td>\n",
              "    </tr>\n",
              "    <tr>\n",
              "      <th>...</th>\n",
              "      <td>...</td>\n",
              "      <td>...</td>\n",
              "      <td>...</td>\n",
              "      <td>...</td>\n",
              "      <td>...</td>\n",
              "      <td>...</td>\n",
              "      <td>...</td>\n",
              "      <td>...</td>\n",
              "      <td>...</td>\n",
              "      <td>...</td>\n",
              "      <td>...</td>\n",
              "      <td>...</td>\n",
              "      <td>...</td>\n",
              "      <td>...</td>\n",
              "      <td>...</td>\n",
              "      <td>...</td>\n",
              "      <td>...</td>\n",
              "      <td>...</td>\n",
              "      <td>...</td>\n",
              "      <td>...</td>\n",
              "      <td>...</td>\n",
              "      <td>...</td>\n",
              "      <td>...</td>\n",
              "      <td>...</td>\n",
              "      <td>...</td>\n",
              "      <td>...</td>\n",
              "      <td>...</td>\n",
              "      <td>...</td>\n",
              "      <td>...</td>\n",
              "    </tr>\n",
              "    <tr>\n",
              "      <th>4445664</th>\n",
              "      <td>0</td>\n",
              "      <td>9</td>\n",
              "      <td>0.00</td>\n",
              "      <td>0</td>\n",
              "      <td>0</td>\n",
              "      <td>16</td>\n",
              "      <td>42</td>\n",
              "      <td>0</td>\n",
              "      <td>0</td>\n",
              "      <td>0</td>\n",
              "      <td>0.00</td>\n",
              "      <td>2013</td>\n",
              "      <td>solo</td>\n",
              "      <td>93</td>\n",
              "      <td>90</td>\n",
              "      <td>1522</td>\n",
              "      <td>0</td>\n",
              "      <td>0.00</td>\n",
              "      <td>0</td>\n",
              "      <td>9.59</td>\n",
              "      <td>0</td>\n",
              "      <td>0</td>\n",
              "      <td>3,952.00</td>\n",
              "      <td>4</td>\n",
              "      <td>0</td>\n",
              "      <td>0.89</td>\n",
              "      <td>solo</td>\n",
              "      <td>kill 0</td>\n",
              "      <td>12+</td>\n",
              "    </tr>\n",
              "    <tr>\n",
              "      <th>4445930</th>\n",
              "      <td>0</td>\n",
              "      <td>2</td>\n",
              "      <td>0.00</td>\n",
              "      <td>1</td>\n",
              "      <td>0</td>\n",
              "      <td>11</td>\n",
              "      <td>48</td>\n",
              "      <td>0</td>\n",
              "      <td>0</td>\n",
              "      <td>0</td>\n",
              "      <td>0.00</td>\n",
              "      <td>1878</td>\n",
              "      <td>duo</td>\n",
              "      <td>47</td>\n",
              "      <td>44</td>\n",
              "      <td>1504</td>\n",
              "      <td>1</td>\n",
              "      <td>0.00</td>\n",
              "      <td>0</td>\n",
              "      <td>49.53</td>\n",
              "      <td>1</td>\n",
              "      <td>0</td>\n",
              "      <td>4,800.00</td>\n",
              "      <td>4</td>\n",
              "      <td>0</td>\n",
              "      <td>0.85</td>\n",
              "      <td>duo</td>\n",
              "      <td>kill 0</td>\n",
              "      <td>11-12</td>\n",
              "    </tr>\n",
              "    <tr>\n",
              "      <th>4446262</th>\n",
              "      <td>0</td>\n",
              "      <td>0</td>\n",
              "      <td>0.00</td>\n",
              "      <td>0</td>\n",
              "      <td>0</td>\n",
              "      <td>11</td>\n",
              "      <td>35</td>\n",
              "      <td>1038</td>\n",
              "      <td>0</td>\n",
              "      <td>0</td>\n",
              "      <td>0.00</td>\n",
              "      <td>2002</td>\n",
              "      <td>squad</td>\n",
              "      <td>25</td>\n",
              "      <td>23</td>\n",
              "      <td>0</td>\n",
              "      <td>1</td>\n",
              "      <td>417.00</td>\n",
              "      <td>0</td>\n",
              "      <td>331.60</td>\n",
              "      <td>0</td>\n",
              "      <td>0</td>\n",
              "      <td>2,885.00</td>\n",
              "      <td>4</td>\n",
              "      <td>1494</td>\n",
              "      <td>0.83</td>\n",
              "      <td>squad</td>\n",
              "      <td>kill 0</td>\n",
              "      <td>11-12</td>\n",
              "    </tr>\n",
              "    <tr>\n",
              "      <th>4446626</th>\n",
              "      <td>0</td>\n",
              "      <td>9</td>\n",
              "      <td>0.00</td>\n",
              "      <td>0</td>\n",
              "      <td>0</td>\n",
              "      <td>23</td>\n",
              "      <td>55</td>\n",
              "      <td>1140</td>\n",
              "      <td>0</td>\n",
              "      <td>0</td>\n",
              "      <td>0.00</td>\n",
              "      <td>1892</td>\n",
              "      <td>squad-fpp</td>\n",
              "      <td>31</td>\n",
              "      <td>31</td>\n",
              "      <td>-1</td>\n",
              "      <td>0</td>\n",
              "      <td>0.00</td>\n",
              "      <td>0</td>\n",
              "      <td>0.00</td>\n",
              "      <td>0</td>\n",
              "      <td>0</td>\n",
              "      <td>2,330.00</td>\n",
              "      <td>9</td>\n",
              "      <td>1553</td>\n",
              "      <td>0.67</td>\n",
              "      <td>squad</td>\n",
              "      <td>kill 0</td>\n",
              "      <td>12+</td>\n",
              "    </tr>\n",
              "    <tr>\n",
              "      <th>4446797</th>\n",
              "      <td>0</td>\n",
              "      <td>10</td>\n",
              "      <td>0.00</td>\n",
              "      <td>0</td>\n",
              "      <td>0</td>\n",
              "      <td>13</td>\n",
              "      <td>42</td>\n",
              "      <td>0</td>\n",
              "      <td>0</td>\n",
              "      <td>0</td>\n",
              "      <td>0.00</td>\n",
              "      <td>2185</td>\n",
              "      <td>solo-fpp</td>\n",
              "      <td>95</td>\n",
              "      <td>91</td>\n",
              "      <td>1738</td>\n",
              "      <td>0</td>\n",
              "      <td>1,723.00</td>\n",
              "      <td>0</td>\n",
              "      <td>100.80</td>\n",
              "      <td>0</td>\n",
              "      <td>1</td>\n",
              "      <td>3,400.00</td>\n",
              "      <td>4</td>\n",
              "      <td>0</td>\n",
              "      <td>0.85</td>\n",
              "      <td>solo</td>\n",
              "      <td>kill 0</td>\n",
              "      <td>12+</td>\n",
              "    </tr>\n",
              "  </tbody>\n",
              "</table>\n",
              "<p>6974 rows × 29 columns</p>\n",
              "</div>"
            ],
            "text/plain": [
              "         assists  boosts  damageDealt  ...  matchType3  kill_grp  heal_cat\n",
              "72             0       3         0.00  ...       squad    kill 0       12+\n",
              "2296           0       5         0.00  ...        solo    kill 0       12+\n",
              "2631           0       2         0.00  ...         duo    kill 0     11-12\n",
              "2837           0       3         0.00  ...         duo    kill 0     11-12\n",
              "3157           0       6         0.00  ...        solo    kill 0       12+\n",
              "...          ...     ...          ...  ...         ...       ...       ...\n",
              "4445664        0       9         0.00  ...        solo    kill 0       12+\n",
              "4445930        0       2         0.00  ...         duo    kill 0     11-12\n",
              "4446262        0       0         0.00  ...       squad    kill 0     11-12\n",
              "4446626        0       9         0.00  ...       squad    kill 0       12+\n",
              "4446797        0      10         0.00  ...        solo    kill 0       12+\n",
              "\n",
              "[6974 rows x 29 columns]"
            ]
          },
          "metadata": {
            "tags": []
          },
          "execution_count": 33
        }
      ]
    },
    {
      "cell_type": "markdown",
      "metadata": {
        "id": "PA-fD4Y5gII6"
      },
      "source": [
        "###We see 6974 people had 0 damage and kills yet used more than 10 heals."
      ]
    },
    {
      "cell_type": "code",
      "metadata": {
        "id": "GhIYHhi3gYY4"
      },
      "source": [
        "data.drop(data[(data['heals']>10) & (data['kills']==0) & (data['damageDealt']==0)].index,inplace = True)"
      ],
      "execution_count": 34,
      "outputs": []
    },
    {
      "cell_type": "code",
      "metadata": {
        "colab": {
          "base_uri": "https://localhost:8080/",
          "height": 130
        },
        "id": "GlvV_LJ0jVik",
        "outputId": "e6cbf2a2-6035-4745-9be0-8d427d9a7254"
      },
      "source": [
        "data[(data['killStreaks'] == data['kills']) & (data['kills']>9) & (data['heals']==0)]"
      ],
      "execution_count": 35,
      "outputs": [
        {
          "output_type": "execute_result",
          "data": {
            "text/html": [
              "<div>\n",
              "<style scoped>\n",
              "    .dataframe tbody tr th:only-of-type {\n",
              "        vertical-align: middle;\n",
              "    }\n",
              "\n",
              "    .dataframe tbody tr th {\n",
              "        vertical-align: top;\n",
              "    }\n",
              "\n",
              "    .dataframe thead th {\n",
              "        text-align: right;\n",
              "    }\n",
              "</style>\n",
              "<table border=\"1\" class=\"dataframe\">\n",
              "  <thead>\n",
              "    <tr style=\"text-align: right;\">\n",
              "      <th></th>\n",
              "      <th>assists</th>\n",
              "      <th>boosts</th>\n",
              "      <th>damageDealt</th>\n",
              "      <th>DBNOs</th>\n",
              "      <th>headshotKills</th>\n",
              "      <th>heals</th>\n",
              "      <th>killPlace</th>\n",
              "      <th>killPoints</th>\n",
              "      <th>kills</th>\n",
              "      <th>killStreaks</th>\n",
              "      <th>longestKill</th>\n",
              "      <th>matchDuration</th>\n",
              "      <th>matchType</th>\n",
              "      <th>maxPlace</th>\n",
              "      <th>numGroups</th>\n",
              "      <th>rankPoints</th>\n",
              "      <th>revives</th>\n",
              "      <th>rideDistance</th>\n",
              "      <th>roadKills</th>\n",
              "      <th>swimDistance</th>\n",
              "      <th>teamKills</th>\n",
              "      <th>vehicleDestroys</th>\n",
              "      <th>walkDistance</th>\n",
              "      <th>weaponsAcquired</th>\n",
              "      <th>winPoints</th>\n",
              "      <th>winPlacePerc</th>\n",
              "      <th>matchType3</th>\n",
              "      <th>kill_grp</th>\n",
              "      <th>heal_cat</th>\n",
              "    </tr>\n",
              "  </thead>\n",
              "  <tbody>\n",
              "    <tr>\n",
              "      <th>2767999</th>\n",
              "      <td>0</td>\n",
              "      <td>0</td>\n",
              "      <td>1,102.00</td>\n",
              "      <td>0</td>\n",
              "      <td>0</td>\n",
              "      <td>0</td>\n",
              "      <td>1</td>\n",
              "      <td>1497</td>\n",
              "      <td>11</td>\n",
              "      <td>11</td>\n",
              "      <td>0.00</td>\n",
              "      <td>1946</td>\n",
              "      <td>solo</td>\n",
              "      <td>88</td>\n",
              "      <td>77</td>\n",
              "      <td>-1</td>\n",
              "      <td>0</td>\n",
              "      <td>4,118.00</td>\n",
              "      <td>11</td>\n",
              "      <td>0.00</td>\n",
              "      <td>0</td>\n",
              "      <td>0</td>\n",
              "      <td>816.60</td>\n",
              "      <td>5</td>\n",
              "      <td>1533</td>\n",
              "      <td>0.47</td>\n",
              "      <td>solo</td>\n",
              "      <td>kill 10+</td>\n",
              "      <td>0</td>\n",
              "    </tr>\n",
              "    <tr>\n",
              "      <th>3954337</th>\n",
              "      <td>0</td>\n",
              "      <td>0</td>\n",
              "      <td>1,000.00</td>\n",
              "      <td>0</td>\n",
              "      <td>0</td>\n",
              "      <td>0</td>\n",
              "      <td>2</td>\n",
              "      <td>1350</td>\n",
              "      <td>10</td>\n",
              "      <td>10</td>\n",
              "      <td>0.00</td>\n",
              "      <td>1992</td>\n",
              "      <td>solo</td>\n",
              "      <td>93</td>\n",
              "      <td>81</td>\n",
              "      <td>-1</td>\n",
              "      <td>0</td>\n",
              "      <td>577.60</td>\n",
              "      <td>10</td>\n",
              "      <td>0.00</td>\n",
              "      <td>0</td>\n",
              "      <td>0</td>\n",
              "      <td>86.48</td>\n",
              "      <td>0</td>\n",
              "      <td>1398</td>\n",
              "      <td>0.22</td>\n",
              "      <td>solo</td>\n",
              "      <td>kill 9-10</td>\n",
              "      <td>0</td>\n",
              "    </tr>\n",
              "  </tbody>\n",
              "</table>\n",
              "</div>"
            ],
            "text/plain": [
              "         assists  boosts  damageDealt  ...  matchType3   kill_grp  heal_cat\n",
              "2767999        0       0     1,102.00  ...        solo   kill 10+         0\n",
              "3954337        0       0     1,000.00  ...        solo  kill 9-10         0\n",
              "\n",
              "[2 rows x 29 columns]"
            ]
          },
          "metadata": {
            "tags": []
          },
          "execution_count": 35
        }
      ]
    },
    {
      "cell_type": "markdown",
      "metadata": {
        "id": "TWIkIfn0jq57"
      },
      "source": [
        "###We see 2 people have continously killed more than 9 without taking any heals which is oviously hacker."
      ]
    },
    {
      "cell_type": "code",
      "metadata": {
        "id": "j9oUZms9kI7R"
      },
      "source": [
        "data.drop(data[(data['killStreaks'] == data['kills']) & (data['kills']>9) & (data['heals']==0)].index,inplace = True)"
      ],
      "execution_count": 36,
      "outputs": []
    },
    {
      "cell_type": "markdown",
      "metadata": {
        "id": "QEButNaojrpB"
      },
      "source": [
        "#DISTANCE\r\n",
        "\r\n",
        "---\r\n",
        "\r\n",
        "---\r\n",
        "\r\n",
        "\r\n",
        "\r\n"
      ]
    },
    {
      "cell_type": "code",
      "metadata": {
        "id": "BtwQBSi5iqCM",
        "colab": {
          "base_uri": "https://localhost:8080/",
          "height": 294
        },
        "outputId": "d61eaf2b-f492-45d2-b28a-b449ecb6f041"
      },
      "source": [
        "data[[\"rideDistance\",\"swimDistance\",\"walkDistance\"]].describe()"
      ],
      "execution_count": 37,
      "outputs": [
        {
          "output_type": "execute_result",
          "data": {
            "text/html": [
              "<div>\n",
              "<style scoped>\n",
              "    .dataframe tbody tr th:only-of-type {\n",
              "        vertical-align: middle;\n",
              "    }\n",
              "\n",
              "    .dataframe tbody tr th {\n",
              "        vertical-align: top;\n",
              "    }\n",
              "\n",
              "    .dataframe thead th {\n",
              "        text-align: right;\n",
              "    }\n",
              "</style>\n",
              "<table border=\"1\" class=\"dataframe\">\n",
              "  <thead>\n",
              "    <tr style=\"text-align: right;\">\n",
              "      <th></th>\n",
              "      <th>rideDistance</th>\n",
              "      <th>swimDistance</th>\n",
              "      <th>walkDistance</th>\n",
              "    </tr>\n",
              "  </thead>\n",
              "  <tbody>\n",
              "    <tr>\n",
              "      <th>count</th>\n",
              "      <td>4,438,245.00</td>\n",
              "      <td>4,438,245.00</td>\n",
              "      <td>4,438,245.00</td>\n",
              "    </tr>\n",
              "    <tr>\n",
              "      <th>mean</th>\n",
              "      <td>603.53</td>\n",
              "      <td>4.49</td>\n",
              "      <td>1,146.72</td>\n",
              "    </tr>\n",
              "    <tr>\n",
              "      <th>std</th>\n",
              "      <td>1,493.75</td>\n",
              "      <td>30.15</td>\n",
              "      <td>1,179.38</td>\n",
              "    </tr>\n",
              "    <tr>\n",
              "      <th>min</th>\n",
              "      <td>0.00</td>\n",
              "      <td>0.00</td>\n",
              "      <td>0.00</td>\n",
              "    </tr>\n",
              "    <tr>\n",
              "      <th>25%</th>\n",
              "      <td>0.00</td>\n",
              "      <td>0.00</td>\n",
              "      <td>154.90</td>\n",
              "    </tr>\n",
              "    <tr>\n",
              "      <th>50%</th>\n",
              "      <td>0.00</td>\n",
              "      <td>0.00</td>\n",
              "      <td>682.90</td>\n",
              "    </tr>\n",
              "    <tr>\n",
              "      <th>75%</th>\n",
              "      <td>0.03</td>\n",
              "      <td>0.00</td>\n",
              "      <td>1,973.00</td>\n",
              "    </tr>\n",
              "    <tr>\n",
              "      <th>max</th>\n",
              "      <td>40,710.00</td>\n",
              "      <td>3,823.00</td>\n",
              "      <td>25,780.00</td>\n",
              "    </tr>\n",
              "  </tbody>\n",
              "</table>\n",
              "</div>"
            ],
            "text/plain": [
              "       rideDistance  swimDistance  walkDistance\n",
              "count  4,438,245.00  4,438,245.00  4,438,245.00\n",
              "mean         603.53          4.49      1,146.72\n",
              "std        1,493.75         30.15      1,179.38\n",
              "min            0.00          0.00          0.00\n",
              "25%            0.00          0.00        154.90\n",
              "50%            0.00          0.00        682.90\n",
              "75%            0.03          0.00      1,973.00\n",
              "max       40,710.00      3,823.00     25,780.00"
            ]
          },
          "metadata": {
            "tags": []
          },
          "execution_count": 37
        }
      ]
    },
    {
      "cell_type": "code",
      "metadata": {
        "id": "TbEzOa-wdO2S",
        "colab": {
          "base_uri": "https://localhost:8080/",
          "height": 330
        },
        "outputId": "d510e313-6e62-4fdf-adcd-4135ea6c061d"
      },
      "source": [
        "fig, ax = plt.subplots(1,3,figsize=(10,5))\r\n",
        "sns.distplot(x=data[\"rideDistance\"],ax=ax[0])\r\n",
        "sns.distplot(x=data[\"swimDistance\"],ax=ax[1])\r\n",
        "sns.distplot(x=data[\"walkDistance\"],ax=ax[2])\r\n",
        "fig.tight_layout(pad=3.0)"
      ],
      "execution_count": 38,
      "outputs": [
        {
          "output_type": "display_data",
          "data": {
            "image/png": "[encoded data removed]",
            "text/plain": [
              "<Figure size 720x360 with 3 Axes>"
            ]
          },
          "metadata": {
            "tags": [],
            "needs_background": "light"
          }
        }
      ]
    },
    {
      "cell_type": "markdown",
      "metadata": {
        "id": "EjoK-_jFttlv"
      },
      "source": [
        "###All the distance covered are right skewed."
      ]
    },
    {
      "cell_type": "code",
      "metadata": {
        "id": "QCsEDMh8-Hvv"
      },
      "source": [
        "data['ride_cat'] = pd.cut(data['rideDistance'],(-1,100,1000,5000,10000,50000),labels=['0-100','101-1000','1001-5000','5001-10000','10000+'])\r\n",
        "data['swim_cat'] = pd.cut(data['swimDistance'],(-1,100,1000,5000,10000,50000),labels=['0-100','101-1000','1001-5000','5001-10000','10000+'])\r\n",
        "data['walk_cat'] = pd.cut(data['walkDistance'],(-1,100,1000,5000,10000,50000),labels=['0-100','101-1000','1001-5000','5001-10000','10000+'])"
      ],
      "execution_count": 39,
      "outputs": []
    },
    {
      "cell_type": "code",
      "metadata": {
        "colab": {
          "base_uri": "https://localhost:8080/",
          "height": 330
        },
        "id": "F8xETAP4-q3F",
        "outputId": "458ceaba-ab34-445b-df6d-ccfd8d9ac154"
      },
      "source": [
        "fig, ax = plt.subplots(1, 3, figsize=(15, 5))\r\n",
        "sns.boxplot(data['ride_cat'],data['winPlacePerc'],ax=ax[0])\r\n",
        "sns.boxplot(data['swim_cat'],data['winPlacePerc'],ax=ax[1])\r\n",
        "sns.boxplot(data['walk_cat'],data['winPlacePerc'],ax=ax[2])\r\n",
        "fig.tight_layout(pad=3.0)"
      ],
      "execution_count": 40,
      "outputs": [
        {
          "output_type": "display_data",
          "data": {
            "image/png": "[encoded data removed]",
            "text/plain": [
              "<Figure size 1080x360 with 3 Axes>"
            ]
          },
          "metadata": {
            "tags": [],
            "needs_background": "light"
          }
        }
      ]
    },
    {
      "cell_type": "markdown",
      "metadata": {
        "id": "yzxvKYrIBTSk"
      },
      "source": [
        "###Higher the distance more is the chances of winning."
      ]
    },
    {
      "cell_type": "code",
      "metadata": {
        "colab": {
          "base_uri": "https://localhost:8080/",
          "height": 641
        },
        "id": "6mANuuumQTVB",
        "outputId": "a51b992d-73aa-476a-83be-e0b9c713c8ea"
      },
      "source": [
        "g = sns.FacetGrid(data,  col='matchType3')\r\n",
        "g.map(plt.scatter,\"weaponsAcquired\",\"rideDistance\")\r\n",
        "plt.show()\r\n",
        "g = sns.FacetGrid(data,  col='matchType3')\r\n",
        "g.map(plt.scatter,\"weaponsAcquired\",\"walkDistance\")\r\n",
        "plt.show()\r\n",
        "g = sns.FacetGrid(data,  col='matchType3')\r\n",
        "g.map(plt.scatter,\"weaponsAcquired\",\"swimDistance\")\r\n",
        "plt.show()"
      ],
      "execution_count": 41,
      "outputs": [
        {
          "output_type": "display_data",
          "data": {
            "image/png": "[encoded data removed]",
            "text/plain": [
              "<Figure size 648x216 with 3 Axes>"
            ]
          },
          "metadata": {
            "tags": [],
            "needs_background": "light"
          }
        },
        {
          "output_type": "display_data",
          "data": {
            "image/png": "[encoded data removed]",
            "text/plain": [
              "<Figure size 648x216 with 3 Axes>"
            ]
          },
          "metadata": {
            "tags": [],
            "needs_background": "light"
          }
        },
        {
          "output_type": "display_data",
          "data": {
            "image/png": "[encoded data removed]",
            "text/plain": [
              "<Figure size 648x216 with 3 Axes>"
            ]
          },
          "metadata": {
            "tags": [],
            "needs_background": "light"
          }
        }
      ]
    },
    {
      "cell_type": "markdown",
      "metadata": {
        "id": "mtvpFamNw1ZA"
      },
      "source": [
        "###We see many moving distance is 0 yet weapons acquired are greater than 1. "
      ]
    },
    {
      "cell_type": "code",
      "metadata": {
        "colab": {
          "base_uri": "https://localhost:8080/"
        },
        "id": "YT3OLq-3VEx_",
        "outputId": "c9855511-f61b-4bf1-ab75-16c3080f3432"
      },
      "source": [
        "print('{} % people did not move a metre yet acquired weapons.'.format(100*len(data[(data['rideDistance']==0) & (data['walkDistance']==0) & (data['swimDistance']==0) & (data['weaponsAcquired']>1)])/len(data)))"
      ],
      "execution_count": 42,
      "outputs": [
        {
          "output_type": "stream",
          "text": [
            "0.15138866826865124 % people did not move a metre yet acquired weapons.\n"
          ],
          "name": "stdout"
        }
      ]
    },
    {
      "cell_type": "markdown",
      "metadata": {
        "id": "wHrCpXKgmkPs"
      },
      "source": [
        "###This could mean that these people were some kind of hackers so lets remove them."
      ]
    },
    {
      "cell_type": "code",
      "metadata": {
        "id": "n6t4zfoX26dJ"
      },
      "source": [
        "data.drop(data[(data['rideDistance']==0) & (data['walkDistance']==0) & (data['swimDistance']==0) & (data['weaponsAcquired']>1)].index,inplace = True)"
      ],
      "execution_count": 43,
      "outputs": []
    },
    {
      "cell_type": "code",
      "metadata": {
        "colab": {
          "base_uri": "https://localhost:8080/",
          "height": 522
        },
        "id": "f7ay7Mu-mui-",
        "outputId": "95557d00-4715-4872-ff8c-771fd085dcdf"
      },
      "source": [
        "data[(data['rideDistance'] == 0) & (data['roadKills']>0)]"
      ],
      "execution_count": 44,
      "outputs": [
        {
          "output_type": "execute_result",
          "data": {
            "text/html": [
              "<div>\n",
              "<style scoped>\n",
              "    .dataframe tbody tr th:only-of-type {\n",
              "        vertical-align: middle;\n",
              "    }\n",
              "\n",
              "    .dataframe tbody tr th {\n",
              "        vertical-align: top;\n",
              "    }\n",
              "\n",
              "    .dataframe thead th {\n",
              "        text-align: right;\n",
              "    }\n",
              "</style>\n",
              "<table border=\"1\" class=\"dataframe\">\n",
              "  <thead>\n",
              "    <tr style=\"text-align: right;\">\n",
              "      <th></th>\n",
              "      <th>assists</th>\n",
              "      <th>boosts</th>\n",
              "      <th>damageDealt</th>\n",
              "      <th>DBNOs</th>\n",
              "      <th>headshotKills</th>\n",
              "      <th>heals</th>\n",
              "      <th>killPlace</th>\n",
              "      <th>killPoints</th>\n",
              "      <th>kills</th>\n",
              "      <th>killStreaks</th>\n",
              "      <th>longestKill</th>\n",
              "      <th>matchDuration</th>\n",
              "      <th>matchType</th>\n",
              "      <th>maxPlace</th>\n",
              "      <th>numGroups</th>\n",
              "      <th>rankPoints</th>\n",
              "      <th>revives</th>\n",
              "      <th>rideDistance</th>\n",
              "      <th>roadKills</th>\n",
              "      <th>swimDistance</th>\n",
              "      <th>teamKills</th>\n",
              "      <th>vehicleDestroys</th>\n",
              "      <th>walkDistance</th>\n",
              "      <th>weaponsAcquired</th>\n",
              "      <th>winPoints</th>\n",
              "      <th>winPlacePerc</th>\n",
              "      <th>matchType3</th>\n",
              "      <th>kill_grp</th>\n",
              "      <th>heal_cat</th>\n",
              "      <th>ride_cat</th>\n",
              "      <th>swim_cat</th>\n",
              "      <th>walk_cat</th>\n",
              "    </tr>\n",
              "  </thead>\n",
              "  <tbody>\n",
              "    <tr>\n",
              "      <th>820</th>\n",
              "      <td>1</td>\n",
              "      <td>1</td>\n",
              "      <td>334.80</td>\n",
              "      <td>4</td>\n",
              "      <td>0</td>\n",
              "      <td>1</td>\n",
              "      <td>17</td>\n",
              "      <td>1187</td>\n",
              "      <td>2</td>\n",
              "      <td>1</td>\n",
              "      <td>50.98</td>\n",
              "      <td>1714</td>\n",
              "      <td>squad-fpp</td>\n",
              "      <td>28</td>\n",
              "      <td>28</td>\n",
              "      <td>-1</td>\n",
              "      <td>0</td>\n",
              "      <td>0.00</td>\n",
              "      <td>1</td>\n",
              "      <td>0.00</td>\n",
              "      <td>0</td>\n",
              "      <td>0</td>\n",
              "      <td>838.00</td>\n",
              "      <td>6</td>\n",
              "      <td>1533</td>\n",
              "      <td>0.37</td>\n",
              "      <td>squad</td>\n",
              "      <td>kill 1-2</td>\n",
              "      <td>1-2</td>\n",
              "      <td>0-100</td>\n",
              "      <td>0-100</td>\n",
              "      <td>101-1000</td>\n",
              "    </tr>\n",
              "    <tr>\n",
              "      <th>40362</th>\n",
              "      <td>0</td>\n",
              "      <td>1</td>\n",
              "      <td>272.40</td>\n",
              "      <td>1</td>\n",
              "      <td>1</td>\n",
              "      <td>2</td>\n",
              "      <td>22</td>\n",
              "      <td>0</td>\n",
              "      <td>2</td>\n",
              "      <td>1</td>\n",
              "      <td>115.60</td>\n",
              "      <td>1336</td>\n",
              "      <td>squad-fpp</td>\n",
              "      <td>29</td>\n",
              "      <td>29</td>\n",
              "      <td>1500</td>\n",
              "      <td>0</td>\n",
              "      <td>0.00</td>\n",
              "      <td>1</td>\n",
              "      <td>127.70</td>\n",
              "      <td>0</td>\n",
              "      <td>0</td>\n",
              "      <td>2,443.00</td>\n",
              "      <td>4</td>\n",
              "      <td>0</td>\n",
              "      <td>0.54</td>\n",
              "      <td>squad</td>\n",
              "      <td>kill 1-2</td>\n",
              "      <td>1-2</td>\n",
              "      <td>0-100</td>\n",
              "      <td>101-1000</td>\n",
              "      <td>1001-5000</td>\n",
              "    </tr>\n",
              "    <tr>\n",
              "      <th>46376</th>\n",
              "      <td>2</td>\n",
              "      <td>5</td>\n",
              "      <td>298.90</td>\n",
              "      <td>3</td>\n",
              "      <td>0</td>\n",
              "      <td>6</td>\n",
              "      <td>12</td>\n",
              "      <td>1378</td>\n",
              "      <td>2</td>\n",
              "      <td>1</td>\n",
              "      <td>15.09</td>\n",
              "      <td>1870</td>\n",
              "      <td>duo</td>\n",
              "      <td>50</td>\n",
              "      <td>49</td>\n",
              "      <td>-1</td>\n",
              "      <td>1</td>\n",
              "      <td>0.00</td>\n",
              "      <td>1</td>\n",
              "      <td>0.00</td>\n",
              "      <td>0</td>\n",
              "      <td>0</td>\n",
              "      <td>3,054.00</td>\n",
              "      <td>4</td>\n",
              "      <td>1509</td>\n",
              "      <td>0.90</td>\n",
              "      <td>duo</td>\n",
              "      <td>kill 1-2</td>\n",
              "      <td>5-6</td>\n",
              "      <td>0-100</td>\n",
              "      <td>0-100</td>\n",
              "      <td>1001-5000</td>\n",
              "    </tr>\n",
              "    <tr>\n",
              "      <th>50918</th>\n",
              "      <td>0</td>\n",
              "      <td>0</td>\n",
              "      <td>169.30</td>\n",
              "      <td>1</td>\n",
              "      <td>0</td>\n",
              "      <td>0</td>\n",
              "      <td>39</td>\n",
              "      <td>0</td>\n",
              "      <td>1</td>\n",
              "      <td>1</td>\n",
              "      <td>14.42</td>\n",
              "      <td>1871</td>\n",
              "      <td>duo-fpp</td>\n",
              "      <td>46</td>\n",
              "      <td>44</td>\n",
              "      <td>1453</td>\n",
              "      <td>0</td>\n",
              "      <td>0.00</td>\n",
              "      <td>1</td>\n",
              "      <td>0.00</td>\n",
              "      <td>0</td>\n",
              "      <td>0</td>\n",
              "      <td>148.60</td>\n",
              "      <td>1</td>\n",
              "      <td>0</td>\n",
              "      <td>0.13</td>\n",
              "      <td>duo</td>\n",
              "      <td>kill 1-2</td>\n",
              "      <td>0</td>\n",
              "      <td>0-100</td>\n",
              "      <td>0-100</td>\n",
              "      <td>101-1000</td>\n",
              "    </tr>\n",
              "    <tr>\n",
              "      <th>55266</th>\n",
              "      <td>0</td>\n",
              "      <td>0</td>\n",
              "      <td>100.00</td>\n",
              "      <td>2</td>\n",
              "      <td>0</td>\n",
              "      <td>0</td>\n",
              "      <td>31</td>\n",
              "      <td>0</td>\n",
              "      <td>1</td>\n",
              "      <td>1</td>\n",
              "      <td>64.06</td>\n",
              "      <td>1351</td>\n",
              "      <td>squad-fpp</td>\n",
              "      <td>28</td>\n",
              "      <td>24</td>\n",
              "      <td>1486</td>\n",
              "      <td>1</td>\n",
              "      <td>0.00</td>\n",
              "      <td>1</td>\n",
              "      <td>0.00</td>\n",
              "      <td>1</td>\n",
              "      <td>0</td>\n",
              "      <td>696.00</td>\n",
              "      <td>3</td>\n",
              "      <td>0</td>\n",
              "      <td>0.37</td>\n",
              "      <td>squad</td>\n",
              "      <td>kill 1-2</td>\n",
              "      <td>0</td>\n",
              "      <td>0-100</td>\n",
              "      <td>0-100</td>\n",
              "      <td>101-1000</td>\n",
              "    </tr>\n",
              "    <tr>\n",
              "      <th>...</th>\n",
              "      <td>...</td>\n",
              "      <td>...</td>\n",
              "      <td>...</td>\n",
              "      <td>...</td>\n",
              "      <td>...</td>\n",
              "      <td>...</td>\n",
              "      <td>...</td>\n",
              "      <td>...</td>\n",
              "      <td>...</td>\n",
              "      <td>...</td>\n",
              "      <td>...</td>\n",
              "      <td>...</td>\n",
              "      <td>...</td>\n",
              "      <td>...</td>\n",
              "      <td>...</td>\n",
              "      <td>...</td>\n",
              "      <td>...</td>\n",
              "      <td>...</td>\n",
              "      <td>...</td>\n",
              "      <td>...</td>\n",
              "      <td>...</td>\n",
              "      <td>...</td>\n",
              "      <td>...</td>\n",
              "      <td>...</td>\n",
              "      <td>...</td>\n",
              "      <td>...</td>\n",
              "      <td>...</td>\n",
              "      <td>...</td>\n",
              "      <td>...</td>\n",
              "      <td>...</td>\n",
              "      <td>...</td>\n",
              "      <td>...</td>\n",
              "    </tr>\n",
              "    <tr>\n",
              "      <th>4417743</th>\n",
              "      <td>0</td>\n",
              "      <td>3</td>\n",
              "      <td>328.90</td>\n",
              "      <td>1</td>\n",
              "      <td>1</td>\n",
              "      <td>2</td>\n",
              "      <td>4</td>\n",
              "      <td>1050</td>\n",
              "      <td>4</td>\n",
              "      <td>2</td>\n",
              "      <td>127.00</td>\n",
              "      <td>1363</td>\n",
              "      <td>duo</td>\n",
              "      <td>47</td>\n",
              "      <td>45</td>\n",
              "      <td>-1</td>\n",
              "      <td>0</td>\n",
              "      <td>0.00</td>\n",
              "      <td>1</td>\n",
              "      <td>104.60</td>\n",
              "      <td>0</td>\n",
              "      <td>0</td>\n",
              "      <td>2,505.00</td>\n",
              "      <td>4</td>\n",
              "      <td>1499</td>\n",
              "      <td>0.87</td>\n",
              "      <td>duo</td>\n",
              "      <td>kill 3-4</td>\n",
              "      <td>1-2</td>\n",
              "      <td>0-100</td>\n",
              "      <td>101-1000</td>\n",
              "      <td>1001-5000</td>\n",
              "    </tr>\n",
              "    <tr>\n",
              "      <th>4418648</th>\n",
              "      <td>0</td>\n",
              "      <td>0</td>\n",
              "      <td>96.43</td>\n",
              "      <td>1</td>\n",
              "      <td>0</td>\n",
              "      <td>0</td>\n",
              "      <td>31</td>\n",
              "      <td>1211</td>\n",
              "      <td>1</td>\n",
              "      <td>1</td>\n",
              "      <td>7.68</td>\n",
              "      <td>1848</td>\n",
              "      <td>squad-fpp</td>\n",
              "      <td>27</td>\n",
              "      <td>27</td>\n",
              "      <td>-1</td>\n",
              "      <td>0</td>\n",
              "      <td>0.00</td>\n",
              "      <td>1</td>\n",
              "      <td>0.00</td>\n",
              "      <td>0</td>\n",
              "      <td>0</td>\n",
              "      <td>1,293.00</td>\n",
              "      <td>3</td>\n",
              "      <td>1429</td>\n",
              "      <td>0.35</td>\n",
              "      <td>squad</td>\n",
              "      <td>kill 1-2</td>\n",
              "      <td>0</td>\n",
              "      <td>0-100</td>\n",
              "      <td>0-100</td>\n",
              "      <td>1001-5000</td>\n",
              "    </tr>\n",
              "    <tr>\n",
              "      <th>4426830</th>\n",
              "      <td>0</td>\n",
              "      <td>0</td>\n",
              "      <td>100.00</td>\n",
              "      <td>1</td>\n",
              "      <td>0</td>\n",
              "      <td>0</td>\n",
              "      <td>36</td>\n",
              "      <td>0</td>\n",
              "      <td>1</td>\n",
              "      <td>1</td>\n",
              "      <td>0.80</td>\n",
              "      <td>1889</td>\n",
              "      <td>squad</td>\n",
              "      <td>26</td>\n",
              "      <td>25</td>\n",
              "      <td>1512</td>\n",
              "      <td>0</td>\n",
              "      <td>0.00</td>\n",
              "      <td>1</td>\n",
              "      <td>0.00</td>\n",
              "      <td>0</td>\n",
              "      <td>0</td>\n",
              "      <td>29.41</td>\n",
              "      <td>1</td>\n",
              "      <td>0</td>\n",
              "      <td>0.04</td>\n",
              "      <td>squad</td>\n",
              "      <td>kill 1-2</td>\n",
              "      <td>0</td>\n",
              "      <td>0-100</td>\n",
              "      <td>0-100</td>\n",
              "      <td>0-100</td>\n",
              "    </tr>\n",
              "    <tr>\n",
              "      <th>4444830</th>\n",
              "      <td>0</td>\n",
              "      <td>6</td>\n",
              "      <td>442.90</td>\n",
              "      <td>4</td>\n",
              "      <td>0</td>\n",
              "      <td>6</td>\n",
              "      <td>4</td>\n",
              "      <td>1175</td>\n",
              "      <td>5</td>\n",
              "      <td>2</td>\n",
              "      <td>59.23</td>\n",
              "      <td>1371</td>\n",
              "      <td>duo-fpp</td>\n",
              "      <td>50</td>\n",
              "      <td>49</td>\n",
              "      <td>-1</td>\n",
              "      <td>0</td>\n",
              "      <td>0.00</td>\n",
              "      <td>1</td>\n",
              "      <td>0.00</td>\n",
              "      <td>0</td>\n",
              "      <td>0</td>\n",
              "      <td>2,875.00</td>\n",
              "      <td>5</td>\n",
              "      <td>1503</td>\n",
              "      <td>0.84</td>\n",
              "      <td>duo</td>\n",
              "      <td>kill 5-6</td>\n",
              "      <td>5-6</td>\n",
              "      <td>0-100</td>\n",
              "      <td>0-100</td>\n",
              "      <td>1001-5000</td>\n",
              "    </tr>\n",
              "    <tr>\n",
              "      <th>4446736</th>\n",
              "      <td>2</td>\n",
              "      <td>0</td>\n",
              "      <td>470.30</td>\n",
              "      <td>3</td>\n",
              "      <td>0</td>\n",
              "      <td>6</td>\n",
              "      <td>10</td>\n",
              "      <td>0</td>\n",
              "      <td>3</td>\n",
              "      <td>1</td>\n",
              "      <td>58.26</td>\n",
              "      <td>1689</td>\n",
              "      <td>squad</td>\n",
              "      <td>27</td>\n",
              "      <td>26</td>\n",
              "      <td>1507</td>\n",
              "      <td>1</td>\n",
              "      <td>0.00</td>\n",
              "      <td>1</td>\n",
              "      <td>0.00</td>\n",
              "      <td>0</td>\n",
              "      <td>0</td>\n",
              "      <td>747.60</td>\n",
              "      <td>5</td>\n",
              "      <td>0</td>\n",
              "      <td>0.58</td>\n",
              "      <td>squad</td>\n",
              "      <td>kill 3-4</td>\n",
              "      <td>5-6</td>\n",
              "      <td>0-100</td>\n",
              "      <td>0-100</td>\n",
              "      <td>101-1000</td>\n",
              "    </tr>\n",
              "  </tbody>\n",
              "</table>\n",
              "<p>186 rows × 32 columns</p>\n",
              "</div>"
            ],
            "text/plain": [
              "         assists  boosts  damageDealt  ...  ride_cat  swim_cat   walk_cat\n",
              "820            1       1       334.80  ...     0-100     0-100   101-1000\n",
              "40362          0       1       272.40  ...     0-100  101-1000  1001-5000\n",
              "46376          2       5       298.90  ...     0-100     0-100  1001-5000\n",
              "50918          0       0       169.30  ...     0-100     0-100   101-1000\n",
              "55266          0       0       100.00  ...     0-100     0-100   101-1000\n",
              "...          ...     ...          ...  ...       ...       ...        ...\n",
              "4417743        0       3       328.90  ...     0-100  101-1000  1001-5000\n",
              "4418648        0       0        96.43  ...     0-100     0-100  1001-5000\n",
              "4426830        0       0       100.00  ...     0-100     0-100      0-100\n",
              "4444830        0       6       442.90  ...     0-100     0-100  1001-5000\n",
              "4446736        2       0       470.30  ...     0-100     0-100   101-1000\n",
              "\n",
              "[186 rows x 32 columns]"
            ]
          },
          "metadata": {
            "tags": []
          },
          "execution_count": 44
        }
      ]
    },
    {
      "cell_type": "markdown",
      "metadata": {
        "id": "EhZDI1Ql7jjV"
      },
      "source": [
        "###186 people didn't ride yet got roadkills which is obviously not possible."
      ]
    },
    {
      "cell_type": "code",
      "metadata": {
        "id": "H8ZRpZ4vn_fo"
      },
      "source": [
        "data.drop(data[(data['rideDistance'] == 0) & (data['roadKills']>0)].index,inplace = True)"
      ],
      "execution_count": 45,
      "outputs": []
    },
    {
      "cell_type": "markdown",
      "metadata": {
        "id": "FYQQtyt2SXSq"
      },
      "source": [
        "#\"winPlacePerc\"\r\n",
        "\r\n",
        "---\r\n",
        "\r\n",
        "---\r\n",
        "\r\n",
        "\r\n",
        "\r\n",
        "\r\n",
        "\r\n"
      ]
    },
    {
      "cell_type": "code",
      "metadata": {
        "id": "V7IeLZQ7S6tc"
      },
      "source": [
        "data['Win%'] = pd.cut(data['winPlacePerc'],[-1,0.099,0.199,0.299,0.399,0.499,0.599,0.699,0.799,0.899,0.999,1],labels=['%0_0.09','%0.1_0.19','%0.2_0.29','%0.3_0.39','%0.4_0.49','%0.5_0.59','%0.6_0.69','%0.7_0.79','%0.8_0.89','%0.9_0.99','First'])"
      ],
      "execution_count": 46,
      "outputs": []
    },
    {
      "cell_type": "code",
      "metadata": {
        "colab": {
          "base_uri": "https://localhost:8080/",
          "height": 396
        },
        "id": "92IwY7jCb9V7",
        "outputId": "5d7abcf1-3d92-4db4-fb7a-e8bf5ad92b3f"
      },
      "source": [
        "plt.figure(figsize=(10,5))\r\n",
        "sns.countplot(y=data['Win%'])\r\n",
        "plt.xticks(rotation=90)"
      ],
      "execution_count": 47,
      "outputs": [
        {
          "output_type": "execute_result",
          "data": {
            "text/plain": [
              "(array([     0., 100000., 200000., 300000., 400000., 500000., 600000.,\n",
              "        700000.]), <a list of 8 Text major ticklabel objects>)"
            ]
          },
          "metadata": {
            "tags": []
          },
          "execution_count": 47
        },
        {
          "output_type": "display_data",
          "data": {
            "image/png": "[encoded data removed]",
            "text/plain": [
              "<Figure size 720x360 with 1 Axes>"
            ]
          },
          "metadata": {
            "tags": [],
            "needs_background": "light"
          }
        }
      ]
    },
    {
      "cell_type": "markdown",
      "metadata": {
        "id": "80aTSufPMSTQ"
      },
      "source": [
        "#'longestKill'"
      ]
    },
    {
      "cell_type": "code",
      "metadata": {
        "colab": {
          "base_uri": "https://localhost:8080/",
          "height": 282
        },
        "id": "55wIRM5i29oy",
        "outputId": "ecfd4b10-34e2-479e-9861-34f0c6871201"
      },
      "source": [
        "sns.distplot(x=data[\"longestKill\"])"
      ],
      "execution_count": 48,
      "outputs": [
        {
          "output_type": "execute_result",
          "data": {
            "text/plain": [
              "<matplotlib.axes._subplots.AxesSubplot at 0x7feacef75198>"
            ]
          },
          "metadata": {
            "tags": []
          },
          "execution_count": 48
        },
        {
          "output_type": "display_data",
          "data": {
            "image/png": "[encoded data removed]",
            "text/plain": [
              "<Figure size 432x288 with 1 Axes>"
            ]
          },
          "metadata": {
            "tags": [],
            "needs_background": "light"
          }
        }
      ]
    },
    {
      "cell_type": "code",
      "metadata": {
        "id": "ednCUb3b9oXh"
      },
      "source": [
        "data['long_cat'] = pd.cut(data['longestKill'],(-1,50,100,500,5000),labels=['0-50','51-100','101-500','500+'])"
      ],
      "execution_count": 49,
      "outputs": []
    },
    {
      "cell_type": "code",
      "metadata": {
        "colab": {
          "base_uri": "https://localhost:8080/",
          "height": 896
        },
        "id": "MG-frvpuGZoW",
        "outputId": "d597b613-ab13-4f66-f32b-13cce4e6334a"
      },
      "source": [
        "plt.figure(figsize=(20,15))\r\n",
        "sns.boxplot(data['long_cat'],data['winPlacePerc'])"
      ],
      "execution_count": 50,
      "outputs": [
        {
          "output_type": "execute_result",
          "data": {
            "text/plain": [
              "<matplotlib.axes._subplots.AxesSubplot at 0x7feacf0c0e80>"
            ]
          },
          "metadata": {
            "tags": []
          },
          "execution_count": 50
        },
        {
          "output_type": "display_data",
          "data": {
            "image/png": "[encoded data removed]",
            "text/plain": [
              "<Figure size 1440x1080 with 1 Axes>"
            ]
          },
          "metadata": {
            "tags": [],
            "needs_background": "light"
          }
        }
      ]
    },
    {
      "cell_type": "markdown",
      "metadata": {
        "id": "tjsQ9xlWNBHs"
      },
      "source": [
        "###Higher the longest kill more is the chance of winning."
      ]
    },
    {
      "cell_type": "markdown",
      "metadata": {
        "id": "E1DdIAANsk1U"
      },
      "source": [
        "#Lets analyse those players who won without a weapon.\r\n",
        "\r\n",
        "---\r\n",
        "\r\n",
        "\r\n",
        "\r\n",
        "\r\n"
      ]
    },
    {
      "cell_type": "code",
      "metadata": {
        "id": "_r9UXTRvD94L"
      },
      "source": [
        "xx=data[(data['Win%']=='First') & (data['weaponsAcquired']==0)]"
      ],
      "execution_count": 51,
      "outputs": []
    },
    {
      "cell_type": "code",
      "metadata": {
        "colab": {
          "base_uri": "https://localhost:8080/",
          "height": 1000
        },
        "id": "FPkfMza9pyPl",
        "outputId": "26662908-4e7b-4784-8916-926fcedaf349"
      },
      "source": [
        "fig, ax = plt.subplots(21,1,figsize=(15,50)) \r\n",
        "sns.boxplot(y=xx[\"assists\"],x=xx[\"matchType3\"],ax=ax[0])\r\n",
        "sns.boxplot(y=xx[\"boosts\"],x=xx[\"matchType3\"],ax=ax[1])\r\n",
        "sns.boxplot(y=xx[\"damageDealt\"],x=xx[\"matchType3\"],ax=ax[2])\r\n",
        "sns.boxplot(y=xx[\"DBNOs\"],x=xx[\"matchType3\"],ax=ax[3])\r\n",
        "sns.boxplot(y=xx[\"headshotKills\"],x=xx[\"matchType3\"],ax=ax[4])\r\n",
        "sns.boxplot(y=xx[\"heals\"],x=xx[\"matchType3\"],ax=ax[5])\r\n",
        "sns.boxplot(y=xx[\"killPlace\"],x=xx[\"matchType3\"],ax=ax[6])\r\n",
        "sns.boxplot(y=xx[\"killPoints\"],x=xx[\"matchType3\"],ax=ax[7])\r\n",
        "sns.boxplot(y=xx[\"kills\"],x=xx[\"matchType3\"],ax=ax[8])\r\n",
        "sns.boxplot(y=xx[\"killStreaks\"],x=xx[\"matchType3\"],ax=ax[9])\r\n",
        "sns.boxplot(y=xx[\"longestKill\"],x=xx[\"matchType3\"],ax=ax[10])\r\n",
        "sns.boxplot(y=xx[\"matchDuration\"],x=xx[\"matchType3\"],ax=ax[11])\r\n",
        "sns.boxplot(y=xx[\"rankPoints\"],x=xx[\"matchType3\"],ax=ax[12])\r\n",
        "sns.boxplot(y=xx[\"revives\"],x=xx[\"matchType3\"],ax=ax[13])\r\n",
        "sns.boxplot(y=xx[\"rideDistance\"],x=xx[\"matchType3\"],ax=ax[14])\r\n",
        "sns.boxplot(y=xx[\"roadKills\"],x=xx[\"matchType3\"],ax=ax[15])\r\n",
        "sns.boxplot(y=xx[\"swimDistance\"],x=xx[\"matchType3\"],ax=ax[16])\r\n",
        "sns.boxplot(y=xx[\"teamKills\"],x=xx[\"matchType3\"],ax=ax[17])\r\n",
        "sns.boxplot(y=xx[\"vehicleDestroys\"],x=xx[\"matchType3\"],ax=ax[18])\r\n",
        "sns.boxplot(y=xx[\"walkDistance\"],x=xx[\"matchType3\"],ax=ax[19])\r\n",
        "sns.boxplot(y=xx[\"winPoints\"],x=xx[\"matchType3\"],ax=ax[20])"
      ],
      "execution_count": 52,
      "outputs": [
        {
          "output_type": "execute_result",
          "data": {
            "text/plain": [
              "<matplotlib.axes._subplots.AxesSubplot at 0x7feacf0b7630>"
            ]
          },
          "metadata": {
            "tags": []
          },
          "execution_count": 52
        },
        {
          "output_type": "display_data",
          "data": {
            "image/png": "[encoded data removed]",
            "text/plain": [
              "<Figure size 1080x3600 with 21 Axes>"
            ]
          },
          "metadata": {
            "tags": [],
            "needs_background": "light"
          }
        }
      ]
    },
    {
      "cell_type": "markdown",
      "metadata": {
        "id": "TR3l8bso8OJH"
      },
      "source": [
        "###I feel the solo  group did nothing special to come first so i think we should remove them."
      ]
    },
    {
      "cell_type": "code",
      "metadata": {
        "id": "_5kVQ6s7aYHj"
      },
      "source": [
        "data.drop(data[(data['Win%']=='First') & (data['weaponsAcquired']==0) & (data['matchType3']=='solo')].index,inplace = True)"
      ],
      "execution_count": 53,
      "outputs": []
    },
    {
      "cell_type": "markdown",
      "metadata": {
        "id": "uvx3sXtp9sgC"
      },
      "source": [
        "#Feature importance\r\n",
        "\r\n",
        "---\r\n",
        "\r\n",
        "---\r\n",
        "\r\n",
        "\r\n",
        "\r\n"
      ]
    },
    {
      "cell_type": "code",
      "metadata": {
        "id": "4gQPKTBs9vO7"
      },
      "source": [
        "from sklearn.ensemble import ExtraTreesRegressor,RandomForestRegressor\r\n",
        "from sklearn.preprocessing import LabelEncoder\r\n",
        "from sklearn.metrics import mean_absolute_error\r\n",
        "from sklearn.metrics import mean_squared_error\r\n",
        "from sklearn.metrics import r2_score"
      ],
      "execution_count": 94,
      "outputs": []
    },
    {
      "cell_type": "code",
      "metadata": {
        "colab": {
          "base_uri": "https://localhost:8080/"
        },
        "id": "TUBrTR8ZIF8G",
        "outputId": "8a4f9d32-db9e-4e69-b895-a92e8e1d7f0a"
      },
      "source": [
        "data.dtypes"
      ],
      "execution_count": 58,
      "outputs": [
        {
          "output_type": "execute_result",
          "data": {
            "text/plain": [
              "assists                int8\n",
              "boosts                 int8\n",
              "damageDealt         float32\n",
              "DBNOs                  int8\n",
              "headshotKills          int8\n",
              "heals                  int8\n",
              "killPlace              int8\n",
              "killPoints            int16\n",
              "kills                  int8\n",
              "killStreaks            int8\n",
              "longestKill         float32\n",
              "matchDuration         int16\n",
              "matchType            object\n",
              "maxPlace               int8\n",
              "numGroups              int8\n",
              "rankPoints            int16\n",
              "revives                int8\n",
              "rideDistance        float32\n",
              "roadKills              int8\n",
              "swimDistance        float32\n",
              "teamKills              int8\n",
              "vehicleDestroys        int8\n",
              "walkDistance        float32\n",
              "weaponsAcquired       int16\n",
              "winPoints             int16\n",
              "winPlacePerc        float32\n",
              "matchType3           object\n",
              "kill_grp           category\n",
              "heal_cat           category\n",
              "ride_cat           category\n",
              "swim_cat           category\n",
              "walk_cat           category\n",
              "Win%               category\n",
              "long_cat           category\n",
              "dtype: object"
            ]
          },
          "metadata": {
            "tags": []
          },
          "execution_count": 58
        }
      ]
    },
    {
      "cell_type": "code",
      "metadata": {
        "id": "GLC5vU-0ITzn"
      },
      "source": [
        "data.drop(['kill_grp','heal_cat','ride_cat','swim_cat','walk_cat','Win%','long_cat'],axis=1,inplace=True)"
      ],
      "execution_count": 60,
      "outputs": []
    },
    {
      "cell_type": "code",
      "metadata": {
        "id": "xhZGrn1g9yoX"
      },
      "source": [
        "data_enc = data.apply(LabelEncoder().fit_transform)"
      ],
      "execution_count": 61,
      "outputs": []
    },
    {
      "cell_type": "code",
      "metadata": {
        "colab": {
          "base_uri": "https://localhost:8080/",
          "height": 682
        },
        "id": "NHkEK1Sj94rh",
        "outputId": "447c727d-bc1b-44fb-b237-a3203ed2ff34"
      },
      "source": [
        "data_enc.head(20)"
      ],
      "execution_count": 62,
      "outputs": [
        {
          "output_type": "execute_result",
          "data": {
            "text/html": [
              "<div>\n",
              "<style scoped>\n",
              "    .dataframe tbody tr th:only-of-type {\n",
              "        vertical-align: middle;\n",
              "    }\n",
              "\n",
              "    .dataframe tbody tr th {\n",
              "        vertical-align: top;\n",
              "    }\n",
              "\n",
              "    .dataframe thead th {\n",
              "        text-align: right;\n",
              "    }\n",
              "</style>\n",
              "<table border=\"1\" class=\"dataframe\">\n",
              "  <thead>\n",
              "    <tr style=\"text-align: right;\">\n",
              "      <th></th>\n",
              "      <th>assists</th>\n",
              "      <th>boosts</th>\n",
              "      <th>damageDealt</th>\n",
              "      <th>DBNOs</th>\n",
              "      <th>headshotKills</th>\n",
              "      <th>heals</th>\n",
              "      <th>killPlace</th>\n",
              "      <th>killPoints</th>\n",
              "      <th>kills</th>\n",
              "      <th>killStreaks</th>\n",
              "      <th>longestKill</th>\n",
              "      <th>matchDuration</th>\n",
              "      <th>matchType</th>\n",
              "      <th>maxPlace</th>\n",
              "      <th>numGroups</th>\n",
              "      <th>rankPoints</th>\n",
              "      <th>revives</th>\n",
              "      <th>rideDistance</th>\n",
              "      <th>roadKills</th>\n",
              "      <th>swimDistance</th>\n",
              "      <th>teamKills</th>\n",
              "      <th>vehicleDestroys</th>\n",
              "      <th>walkDistance</th>\n",
              "      <th>weaponsAcquired</th>\n",
              "      <th>winPoints</th>\n",
              "      <th>winPlacePerc</th>\n",
              "      <th>matchType3</th>\n",
              "    </tr>\n",
              "  </thead>\n",
              "  <tbody>\n",
              "    <tr>\n",
              "      <th>0</th>\n",
              "      <td>0</td>\n",
              "      <td>0</td>\n",
              "      <td>0</td>\n",
              "      <td>0</td>\n",
              "      <td>0</td>\n",
              "      <td>0</td>\n",
              "      <td>59</td>\n",
              "      <td>864</td>\n",
              "      <td>0</td>\n",
              "      <td>0</td>\n",
              "      <td>0</td>\n",
              "      <td>424</td>\n",
              "      <td>15</td>\n",
              "      <td>27</td>\n",
              "      <td>25</td>\n",
              "      <td>0</td>\n",
              "      <td>0</td>\n",
              "      <td>0</td>\n",
              "      <td>0</td>\n",
              "      <td>0</td>\n",
              "      <td>0</td>\n",
              "      <td>0</td>\n",
              "      <td>23558</td>\n",
              "      <td>1</td>\n",
              "      <td>931</td>\n",
              "      <td>1333</td>\n",
              "      <td>2</td>\n",
              "    </tr>\n",
              "    <tr>\n",
              "      <th>1</th>\n",
              "      <td>0</td>\n",
              "      <td>0</td>\n",
              "      <td>18604</td>\n",
              "      <td>0</td>\n",
              "      <td>0</td>\n",
              "      <td>0</td>\n",
              "      <td>56</td>\n",
              "      <td>0</td>\n",
              "      <td>0</td>\n",
              "      <td>0</td>\n",
              "      <td>0</td>\n",
              "      <td>851</td>\n",
              "      <td>15</td>\n",
              "      <td>25</td>\n",
              "      <td>24</td>\n",
              "      <td>858</td>\n",
              "      <td>0</td>\n",
              "      <td>45</td>\n",
              "      <td>0</td>\n",
              "      <td>13752</td>\n",
              "      <td>0</td>\n",
              "      <td>0</td>\n",
              "      <td>31544</td>\n",
              "      <td>5</td>\n",
              "      <td>0</td>\n",
              "      <td>1918</td>\n",
              "      <td>2</td>\n",
              "    </tr>\n",
              "    <tr>\n",
              "      <th>2</th>\n",
              "      <td>1</td>\n",
              "      <td>0</td>\n",
              "      <td>16257</td>\n",
              "      <td>0</td>\n",
              "      <td>0</td>\n",
              "      <td>0</td>\n",
              "      <td>46</td>\n",
              "      <td>0</td>\n",
              "      <td>0</td>\n",
              "      <td>0</td>\n",
              "      <td>0</td>\n",
              "      <td>436</td>\n",
              "      <td>2</td>\n",
              "      <td>49</td>\n",
              "      <td>46</td>\n",
              "      <td>865</td>\n",
              "      <td>0</td>\n",
              "      <td>0</td>\n",
              "      <td>0</td>\n",
              "      <td>0</td>\n",
              "      <td>0</td>\n",
              "      <td>0</td>\n",
              "      <td>22728</td>\n",
              "      <td>2</td>\n",
              "      <td>0</td>\n",
              "      <td>2326</td>\n",
              "      <td>0</td>\n",
              "    </tr>\n",
              "    <tr>\n",
              "      <th>3</th>\n",
              "      <td>0</td>\n",
              "      <td>0</td>\n",
              "      <td>12747</td>\n",
              "      <td>0</td>\n",
              "      <td>0</td>\n",
              "      <td>0</td>\n",
              "      <td>74</td>\n",
              "      <td>0</td>\n",
              "      <td>0</td>\n",
              "      <td>0</td>\n",
              "      <td>0</td>\n",
              "      <td>554</td>\n",
              "      <td>15</td>\n",
              "      <td>30</td>\n",
              "      <td>29</td>\n",
              "      <td>782</td>\n",
              "      <td>0</td>\n",
              "      <td>0</td>\n",
              "      <td>0</td>\n",
              "      <td>0</td>\n",
              "      <td>0</td>\n",
              "      <td>0</td>\n",
              "      <td>23137</td>\n",
              "      <td>3</td>\n",
              "      <td>0</td>\n",
              "      <td>501</td>\n",
              "      <td>2</td>\n",
              "    </tr>\n",
              "    <tr>\n",
              "      <th>4</th>\n",
              "      <td>0</td>\n",
              "      <td>0</td>\n",
              "      <td>19457</td>\n",
              "      <td>0</td>\n",
              "      <td>0</td>\n",
              "      <td>0</td>\n",
              "      <td>44</td>\n",
              "      <td>0</td>\n",
              "      <td>1</td>\n",
              "      <td>1</td>\n",
              "      <td>18907</td>\n",
              "      <td>542</td>\n",
              "      <td>13</td>\n",
              "      <td>96</td>\n",
              "      <td>94</td>\n",
              "      <td>934</td>\n",
              "      <td>0</td>\n",
              "      <td>0</td>\n",
              "      <td>0</td>\n",
              "      <td>0</td>\n",
              "      <td>0</td>\n",
              "      <td>0</td>\n",
              "      <td>17085</td>\n",
              "      <td>2</td>\n",
              "      <td>0</td>\n",
              "      <td>564</td>\n",
              "      <td>1</td>\n",
              "    </tr>\n",
              "    <tr>\n",
              "      <th>5</th>\n",
              "      <td>0</td>\n",
              "      <td>0</td>\n",
              "      <td>19457</td>\n",
              "      <td>1</td>\n",
              "      <td>1</td>\n",
              "      <td>0</td>\n",
              "      <td>43</td>\n",
              "      <td>0</td>\n",
              "      <td>1</td>\n",
              "      <td>1</td>\n",
              "      <td>14898</td>\n",
              "      <td>513</td>\n",
              "      <td>15</td>\n",
              "      <td>27</td>\n",
              "      <td>27</td>\n",
              "      <td>792</td>\n",
              "      <td>0</td>\n",
              "      <td>0</td>\n",
              "      <td>0</td>\n",
              "      <td>0</td>\n",
              "      <td>0</td>\n",
              "      <td>0</td>\n",
              "      <td>15580</td>\n",
              "      <td>1</td>\n",
              "      <td>0</td>\n",
              "      <td>108</td>\n",
              "      <td>2</td>\n",
              "    </tr>\n",
              "    <tr>\n",
              "      <th>6</th>\n",
              "      <td>0</td>\n",
              "      <td>0</td>\n",
              "      <td>0</td>\n",
              "      <td>0</td>\n",
              "      <td>0</td>\n",
              "      <td>0</td>\n",
              "      <td>95</td>\n",
              "      <td>885</td>\n",
              "      <td>0</td>\n",
              "      <td>0</td>\n",
              "      <td>0</td>\n",
              "      <td>434</td>\n",
              "      <td>15</td>\n",
              "      <td>27</td>\n",
              "      <td>27</td>\n",
              "      <td>0</td>\n",
              "      <td>0</td>\n",
              "      <td>0</td>\n",
              "      <td>0</td>\n",
              "      <td>0</td>\n",
              "      <td>0</td>\n",
              "      <td>0</td>\n",
              "      <td>13460</td>\n",
              "      <td>1</td>\n",
              "      <td>962</td>\n",
              "      <td>0</td>\n",
              "      <td>2</td>\n",
              "    </tr>\n",
              "    <tr>\n",
              "      <th>7</th>\n",
              "      <td>0</td>\n",
              "      <td>0</td>\n",
              "      <td>9091</td>\n",
              "      <td>0</td>\n",
              "      <td>0</td>\n",
              "      <td>0</td>\n",
              "      <td>47</td>\n",
              "      <td>623</td>\n",
              "      <td>0</td>\n",
              "      <td>0</td>\n",
              "      <td>0</td>\n",
              "      <td>1041</td>\n",
              "      <td>13</td>\n",
              "      <td>95</td>\n",
              "      <td>91</td>\n",
              "      <td>0</td>\n",
              "      <td>0</td>\n",
              "      <td>24693</td>\n",
              "      <td>0</td>\n",
              "      <td>0</td>\n",
              "      <td>0</td>\n",
              "      <td>0</td>\n",
              "      <td>31199</td>\n",
              "      <td>6</td>\n",
              "      <td>965</td>\n",
              "      <td>2209</td>\n",
              "      <td>1</td>\n",
              "    </tr>\n",
              "    <tr>\n",
              "      <th>8</th>\n",
              "      <td>0</td>\n",
              "      <td>0</td>\n",
              "      <td>14617</td>\n",
              "      <td>0</td>\n",
              "      <td>0</td>\n",
              "      <td>0</td>\n",
              "      <td>63</td>\n",
              "      <td>0</td>\n",
              "      <td>0</td>\n",
              "      <td>0</td>\n",
              "      <td>0</td>\n",
              "      <td>493</td>\n",
              "      <td>14</td>\n",
              "      <td>27</td>\n",
              "      <td>26</td>\n",
              "      <td>867</td>\n",
              "      <td>0</td>\n",
              "      <td>0</td>\n",
              "      <td>0</td>\n",
              "      <td>0</td>\n",
              "      <td>0</td>\n",
              "      <td>0</td>\n",
              "      <td>29109</td>\n",
              "      <td>4</td>\n",
              "      <td>0</td>\n",
              "      <td>1111</td>\n",
              "      <td>2</td>\n",
              "    </tr>\n",
              "    <tr>\n",
              "      <th>9</th>\n",
              "      <td>0</td>\n",
              "      <td>0</td>\n",
              "      <td>13184</td>\n",
              "      <td>0</td>\n",
              "      <td>0</td>\n",
              "      <td>0</td>\n",
              "      <td>73</td>\n",
              "      <td>0</td>\n",
              "      <td>0</td>\n",
              "      <td>0</td>\n",
              "      <td>0</td>\n",
              "      <td>1004</td>\n",
              "      <td>14</td>\n",
              "      <td>28</td>\n",
              "      <td>26</td>\n",
              "      <td>723</td>\n",
              "      <td>0</td>\n",
              "      <td>0</td>\n",
              "      <td>0</td>\n",
              "      <td>0</td>\n",
              "      <td>0</td>\n",
              "      <td>0</td>\n",
              "      <td>18677</td>\n",
              "      <td>1</td>\n",
              "      <td>0</td>\n",
              "      <td>644</td>\n",
              "      <td>2</td>\n",
              "    </tr>\n",
              "    <tr>\n",
              "      <th>10</th>\n",
              "      <td>0</td>\n",
              "      <td>0</td>\n",
              "      <td>12295</td>\n",
              "      <td>0</td>\n",
              "      <td>0</td>\n",
              "      <td>0</td>\n",
              "      <td>74</td>\n",
              "      <td>0</td>\n",
              "      <td>0</td>\n",
              "      <td>0</td>\n",
              "      <td>0</td>\n",
              "      <td>885</td>\n",
              "      <td>15</td>\n",
              "      <td>28</td>\n",
              "      <td>28</td>\n",
              "      <td>849</td>\n",
              "      <td>0</td>\n",
              "      <td>0</td>\n",
              "      <td>0</td>\n",
              "      <td>0</td>\n",
              "      <td>0</td>\n",
              "      <td>0</td>\n",
              "      <td>29793</td>\n",
              "      <td>9</td>\n",
              "      <td>0</td>\n",
              "      <td>1180</td>\n",
              "      <td>2</td>\n",
              "    </tr>\n",
              "    <tr>\n",
              "      <th>11</th>\n",
              "      <td>0</td>\n",
              "      <td>0</td>\n",
              "      <td>19836</td>\n",
              "      <td>1</td>\n",
              "      <td>0</td>\n",
              "      <td>0</td>\n",
              "      <td>63</td>\n",
              "      <td>0</td>\n",
              "      <td>0</td>\n",
              "      <td>0</td>\n",
              "      <td>0</td>\n",
              "      <td>502</td>\n",
              "      <td>3</td>\n",
              "      <td>47</td>\n",
              "      <td>45</td>\n",
              "      <td>862</td>\n",
              "      <td>0</td>\n",
              "      <td>0</td>\n",
              "      <td>0</td>\n",
              "      <td>0</td>\n",
              "      <td>0</td>\n",
              "      <td>0</td>\n",
              "      <td>25627</td>\n",
              "      <td>1</td>\n",
              "      <td>0</td>\n",
              "      <td>1212</td>\n",
              "      <td>0</td>\n",
              "    </tr>\n",
              "    <tr>\n",
              "      <th>12</th>\n",
              "      <td>0</td>\n",
              "      <td>0</td>\n",
              "      <td>0</td>\n",
              "      <td>0</td>\n",
              "      <td>0</td>\n",
              "      <td>0</td>\n",
              "      <td>36</td>\n",
              "      <td>0</td>\n",
              "      <td>0</td>\n",
              "      <td>0</td>\n",
              "      <td>0</td>\n",
              "      <td>848</td>\n",
              "      <td>15</td>\n",
              "      <td>28</td>\n",
              "      <td>27</td>\n",
              "      <td>1140</td>\n",
              "      <td>0</td>\n",
              "      <td>29328</td>\n",
              "      <td>0</td>\n",
              "      <td>0</td>\n",
              "      <td>0</td>\n",
              "      <td>0</td>\n",
              "      <td>32894</td>\n",
              "      <td>6</td>\n",
              "      <td>0</td>\n",
              "      <td>2787</td>\n",
              "      <td>2</td>\n",
              "    </tr>\n",
              "    <tr>\n",
              "      <th>13</th>\n",
              "      <td>0</td>\n",
              "      <td>1</td>\n",
              "      <td>21699</td>\n",
              "      <td>0</td>\n",
              "      <td>1</td>\n",
              "      <td>5</td>\n",
              "      <td>4</td>\n",
              "      <td>609</td>\n",
              "      <td>4</td>\n",
              "      <td>1</td>\n",
              "      <td>18037</td>\n",
              "      <td>960</td>\n",
              "      <td>13</td>\n",
              "      <td>96</td>\n",
              "      <td>93</td>\n",
              "      <td>0</td>\n",
              "      <td>0</td>\n",
              "      <td>23917</td>\n",
              "      <td>0</td>\n",
              "      <td>20332</td>\n",
              "      <td>0</td>\n",
              "      <td>0</td>\n",
              "      <td>32160</td>\n",
              "      <td>6</td>\n",
              "      <td>927</td>\n",
              "      <td>2624</td>\n",
              "      <td>1</td>\n",
              "    </tr>\n",
              "    <tr>\n",
              "      <th>14</th>\n",
              "      <td>0</td>\n",
              "      <td>1</td>\n",
              "      <td>19685</td>\n",
              "      <td>1</td>\n",
              "      <td>0</td>\n",
              "      <td>2</td>\n",
              "      <td>24</td>\n",
              "      <td>1034</td>\n",
              "      <td>1</td>\n",
              "      <td>1</td>\n",
              "      <td>16845</td>\n",
              "      <td>576</td>\n",
              "      <td>15</td>\n",
              "      <td>30</td>\n",
              "      <td>29</td>\n",
              "      <td>0</td>\n",
              "      <td>1</td>\n",
              "      <td>23926</td>\n",
              "      <td>0</td>\n",
              "      <td>18677</td>\n",
              "      <td>0</td>\n",
              "      <td>0</td>\n",
              "      <td>31776</td>\n",
              "      <td>5</td>\n",
              "      <td>996</td>\n",
              "      <td>2699</td>\n",
              "      <td>2</td>\n",
              "    </tr>\n",
              "    <tr>\n",
              "      <th>15</th>\n",
              "      <td>0</td>\n",
              "      <td>0</td>\n",
              "      <td>17528</td>\n",
              "      <td>1</td>\n",
              "      <td>0</td>\n",
              "      <td>0</td>\n",
              "      <td>71</td>\n",
              "      <td>0</td>\n",
              "      <td>0</td>\n",
              "      <td>0</td>\n",
              "      <td>0</td>\n",
              "      <td>431</td>\n",
              "      <td>3</td>\n",
              "      <td>47</td>\n",
              "      <td>47</td>\n",
              "      <td>869</td>\n",
              "      <td>1</td>\n",
              "      <td>0</td>\n",
              "      <td>0</td>\n",
              "      <td>0</td>\n",
              "      <td>0</td>\n",
              "      <td>0</td>\n",
              "      <td>22161</td>\n",
              "      <td>5</td>\n",
              "      <td>0</td>\n",
              "      <td>832</td>\n",
              "      <td>0</td>\n",
              "    </tr>\n",
              "    <tr>\n",
              "      <th>16</th>\n",
              "      <td>0</td>\n",
              "      <td>2</td>\n",
              "      <td>17628</td>\n",
              "      <td>1</td>\n",
              "      <td>0</td>\n",
              "      <td>14</td>\n",
              "      <td>24</td>\n",
              "      <td>0</td>\n",
              "      <td>1</td>\n",
              "      <td>1</td>\n",
              "      <td>13212</td>\n",
              "      <td>956</td>\n",
              "      <td>15</td>\n",
              "      <td>26</td>\n",
              "      <td>25</td>\n",
              "      <td>810</td>\n",
              "      <td>0</td>\n",
              "      <td>18888</td>\n",
              "      <td>0</td>\n",
              "      <td>0</td>\n",
              "      <td>0</td>\n",
              "      <td>0</td>\n",
              "      <td>33784</td>\n",
              "      <td>7</td>\n",
              "      <td>0</td>\n",
              "      <td>2190</td>\n",
              "      <td>2</td>\n",
              "    </tr>\n",
              "    <tr>\n",
              "      <th>17</th>\n",
              "      <td>0</td>\n",
              "      <td>3</td>\n",
              "      <td>21000</td>\n",
              "      <td>0</td>\n",
              "      <td>0</td>\n",
              "      <td>12</td>\n",
              "      <td>12</td>\n",
              "      <td>0</td>\n",
              "      <td>2</td>\n",
              "      <td>1</td>\n",
              "      <td>16654</td>\n",
              "      <td>489</td>\n",
              "      <td>13</td>\n",
              "      <td>95</td>\n",
              "      <td>94</td>\n",
              "      <td>910</td>\n",
              "      <td>0</td>\n",
              "      <td>25056</td>\n",
              "      <td>0</td>\n",
              "      <td>14177</td>\n",
              "      <td>0</td>\n",
              "      <td>0</td>\n",
              "      <td>31897</td>\n",
              "      <td>3</td>\n",
              "      <td>0</td>\n",
              "      <td>2462</td>\n",
              "      <td>1</td>\n",
              "    </tr>\n",
              "    <tr>\n",
              "      <th>18</th>\n",
              "      <td>0</td>\n",
              "      <td>0</td>\n",
              "      <td>0</td>\n",
              "      <td>0</td>\n",
              "      <td>0</td>\n",
              "      <td>0</td>\n",
              "      <td>78</td>\n",
              "      <td>0</td>\n",
              "      <td>0</td>\n",
              "      <td>0</td>\n",
              "      <td>0</td>\n",
              "      <td>419</td>\n",
              "      <td>15</td>\n",
              "      <td>26</td>\n",
              "      <td>25</td>\n",
              "      <td>729</td>\n",
              "      <td>0</td>\n",
              "      <td>0</td>\n",
              "      <td>0</td>\n",
              "      <td>0</td>\n",
              "      <td>0</td>\n",
              "      <td>0</td>\n",
              "      <td>22484</td>\n",
              "      <td>2</td>\n",
              "      <td>0</td>\n",
              "      <td>579</td>\n",
              "      <td>2</td>\n",
              "    </tr>\n",
              "    <tr>\n",
              "      <th>19</th>\n",
              "      <td>0</td>\n",
              "      <td>1</td>\n",
              "      <td>15985</td>\n",
              "      <td>0</td>\n",
              "      <td>0</td>\n",
              "      <td>1</td>\n",
              "      <td>47</td>\n",
              "      <td>972</td>\n",
              "      <td>0</td>\n",
              "      <td>0</td>\n",
              "      <td>0</td>\n",
              "      <td>440</td>\n",
              "      <td>15</td>\n",
              "      <td>29</td>\n",
              "      <td>27</td>\n",
              "      <td>1</td>\n",
              "      <td>0</td>\n",
              "      <td>0</td>\n",
              "      <td>0</td>\n",
              "      <td>14733</td>\n",
              "      <td>0</td>\n",
              "      <td>0</td>\n",
              "      <td>33420</td>\n",
              "      <td>3</td>\n",
              "      <td>944</td>\n",
              "      <td>2794</td>\n",
              "      <td>2</td>\n",
              "    </tr>\n",
              "  </tbody>\n",
              "</table>\n",
              "</div>"
            ],
            "text/plain": [
              "    assists  boosts  damageDealt  ...  winPoints  winPlacePerc  matchType3\n",
              "0         0       0            0  ...        931          1333           2\n",
              "1         0       0        18604  ...          0          1918           2\n",
              "2         1       0        16257  ...          0          2326           0\n",
              "3         0       0        12747  ...          0           501           2\n",
              "4         0       0        19457  ...          0           564           1\n",
              "5         0       0        19457  ...          0           108           2\n",
              "6         0       0            0  ...        962             0           2\n",
              "7         0       0         9091  ...        965          2209           1\n",
              "8         0       0        14617  ...          0          1111           2\n",
              "9         0       0        13184  ...          0           644           2\n",
              "10        0       0        12295  ...          0          1180           2\n",
              "11        0       0        19836  ...          0          1212           0\n",
              "12        0       0            0  ...          0          2787           2\n",
              "13        0       1        21699  ...        927          2624           1\n",
              "14        0       1        19685  ...        996          2699           2\n",
              "15        0       0        17528  ...          0           832           0\n",
              "16        0       2        17628  ...          0          2190           2\n",
              "17        0       3        21000  ...          0          2462           1\n",
              "18        0       0            0  ...          0           579           2\n",
              "19        0       1        15985  ...        944          2794           2\n",
              "\n",
              "[20 rows x 27 columns]"
            ]
          },
          "metadata": {
            "tags": []
          },
          "execution_count": 62
        }
      ]
    },
    {
      "cell_type": "code",
      "metadata": {
        "id": "xOoTRIQj-B5_"
      },
      "source": [
        "#working of the huge data requires huge computation power let's take a sample of 300000 rows.\r\n",
        "samp_data = data_enc.sample(300000)"
      ],
      "execution_count": 63,
      "outputs": []
    },
    {
      "cell_type": "code",
      "metadata": {
        "colab": {
          "base_uri": "https://localhost:8080/"
        },
        "id": "gPXKsA1L-Chl",
        "outputId": "06312984-4233-44e1-bf1f-8c8c34aed6cf"
      },
      "source": [
        "print(data.shape)\r\n",
        "print(samp_data.shape)"
      ],
      "execution_count": 66,
      "outputs": [
        {
          "output_type": "stream",
          "text": [
            "(4431323, 27)\n",
            "(300000, 27)\n"
          ],
          "name": "stdout"
        }
      ]
    },
    {
      "cell_type": "code",
      "metadata": {
        "id": "sieW5P6e-H5K"
      },
      "source": [
        "x = samp_data.drop(['winPlacePerc'],axis=1)\r\n",
        "y = samp_data['winPlacePerc']"
      ],
      "execution_count": 67,
      "outputs": []
    },
    {
      "cell_type": "code",
      "metadata": {
        "id": "qEqtEvJ_-LTM"
      },
      "source": [
        "etr = ExtraTreesRegressor().fit(x,y)"
      ],
      "execution_count": 69,
      "outputs": []
    },
    {
      "cell_type": "code",
      "metadata": {
        "colab": {
          "base_uri": "https://localhost:8080/"
        },
        "id": "4E1ypcjb-P1f",
        "outputId": "1d6fbd76-66ef-4683-b8ba-9ee20c6203f3"
      },
      "source": [
        "print(etr.feature_importances_.shape)"
      ],
      "execution_count": 70,
      "outputs": [
        {
          "output_type": "stream",
          "text": [
            "(26,)\n"
          ],
          "name": "stdout"
        }
      ]
    },
    {
      "cell_type": "code",
      "metadata": {
        "colab": {
          "base_uri": "https://localhost:8080/"
        },
        "id": "XUcVVqyCJITx",
        "outputId": "a9026ce1-ce56-4658-f501-40e5b4a7cdd9"
      },
      "source": [
        "col = x.columns\r\n",
        "print(col.shape)\r\n",
        "print(col)\r\n",
        "x.dtypes"
      ],
      "execution_count": 71,
      "outputs": [
        {
          "output_type": "stream",
          "text": [
            "(26,)\n",
            "Index(['assists', 'boosts', 'damageDealt', 'DBNOs', 'headshotKills', 'heals',\n",
            "       'killPlace', 'killPoints', 'kills', 'killStreaks', 'longestKill',\n",
            "       'matchDuration', 'matchType', 'maxPlace', 'numGroups', 'rankPoints',\n",
            "       'revives', 'rideDistance', 'roadKills', 'swimDistance', 'teamKills',\n",
            "       'vehicleDestroys', 'walkDistance', 'weaponsAcquired', 'winPoints',\n",
            "       'matchType3'],\n",
            "      dtype='object')\n"
          ],
          "name": "stdout"
        },
        {
          "output_type": "execute_result",
          "data": {
            "text/plain": [
              "assists            int64\n",
              "boosts             int64\n",
              "damageDealt        int64\n",
              "DBNOs              int64\n",
              "headshotKills      int64\n",
              "heals              int64\n",
              "killPlace          int64\n",
              "killPoints         int64\n",
              "kills              int64\n",
              "killStreaks        int64\n",
              "longestKill        int64\n",
              "matchDuration      int64\n",
              "matchType          int64\n",
              "maxPlace           int64\n",
              "numGroups          int64\n",
              "rankPoints         int64\n",
              "revives            int64\n",
              "rideDistance       int64\n",
              "roadKills          int64\n",
              "swimDistance       int64\n",
              "teamKills          int64\n",
              "vehicleDestroys    int64\n",
              "walkDistance       int64\n",
              "weaponsAcquired    int64\n",
              "winPoints          int64\n",
              "matchType3         int64\n",
              "dtype: object"
            ]
          },
          "metadata": {
            "tags": []
          },
          "execution_count": 71
        }
      ]
    },
    {
      "cell_type": "code",
      "metadata": {
        "colab": {
          "base_uri": "https://localhost:8080/"
        },
        "id": "jlFv95oNJJrT",
        "outputId": "bd749e59-f328-4e45-8265-6fdeea2e18ab"
      },
      "source": [
        "etr_feat= etr.feature_importances_\r\n",
        "print(etr_feat.shape)\r\n",
        "print(etr_feat)"
      ],
      "execution_count": 72,
      "outputs": [
        {
          "output_type": "stream",
          "text": [
            "(26,)\n",
            "[3.58629434e-03 7.44742475e-02 8.99406213e-03 4.31953849e-03\n",
            " 2.31900736e-03 1.14721700e-02 3.62077171e-01 2.81669897e-03\n",
            " 1.07601992e-02 1.31372199e-02 2.18119552e-02 1.61759180e-02\n",
            " 5.17175885e-03 1.17028501e-02 1.44121559e-02 3.67641631e-03\n",
            " 2.37712054e-03 2.45510834e-02 1.98328560e-04 1.86980800e-03\n",
            " 8.36699505e-04 3.44404019e-04 3.75360453e-01 2.01276016e-02\n",
            " 2.58326337e-03 4.84357458e-03]\n"
          ],
          "name": "stdout"
        }
      ]
    },
    {
      "cell_type": "code",
      "metadata": {
        "colab": {
          "base_uri": "https://localhost:8080/",
          "height": 841
        },
        "id": "KlMvz7RwJZNW",
        "outputId": "05f30d88-dced-47b1-b659-ddec83365948"
      },
      "source": [
        "plt.figure(figsize=(15,10))\r\n",
        "sns.barplot(col,etr_feat)\r\n",
        "plt.tight_layout()\r\n",
        "\r\n",
        "plt.xticks(rotation=45)"
      ],
      "execution_count": 111,
      "outputs": [
        {
          "output_type": "execute_result",
          "data": {
            "text/plain": [
              "(array([ 0,  1,  2,  3,  4,  5,  6,  7,  8,  9, 10, 11, 12, 13, 14, 15, 16,\n",
              "        17, 18, 19, 20, 21, 22, 23, 24, 25]),\n",
              " <a list of 26 Text major ticklabel objects>)"
            ]
          },
          "metadata": {
            "tags": []
          },
          "execution_count": 111
        },
        {
          "output_type": "display_data",
          "data": {
            "image/png": "[encoded data removed]",
            "text/plain": [
              "<Figure size 1080x720 with 1 Axes>"
            ]
          },
          "metadata": {
            "tags": [],
            "needs_background": "light"
          }
        }
      ]
    },
    {
      "cell_type": "code",
      "metadata": {
        "id": "mNB3sP4lLeQw"
      },
      "source": [
        "from sklearn.model_selection import train_test_split\r\n",
        "from sklearn.linear_model import LinearRegression\r\n",
        "from sklearn.tree import DecisionTreeRegressor\r\n",
        "from sklearn.ensemble import RandomForestRegressor\r\n",
        "from sklearn.ensemble import AdaBoostRegressor\r\n",
        "from sklearn.neighbors import KNeighborsRegressor\r\n",
        "from sklearn.svm import SVR\r\n",
        "from xgboost import XGBRegressor"
      ],
      "execution_count": 75,
      "outputs": []
    },
    {
      "cell_type": "code",
      "metadata": {
        "id": "hOTYJ7ZCL1Hu"
      },
      "source": [
        "x_train,x_test,y_train,y_test = train_test_split(x,y,test_size = 0.10,random_state = 123)"
      ],
      "execution_count": 76,
      "outputs": []
    },
    {
      "cell_type": "markdown",
      "metadata": {
        "id": "xc5EqYStMdVG"
      },
      "source": [
        "#Predicting Using different algorithm.\r\n",
        "\r\n",
        "---\r\n",
        "\r\n",
        "---\r\n",
        "\r\n",
        "\r\n",
        "\r\n"
      ]
    },
    {
      "cell_type": "code",
      "metadata": {
        "id": "tJ0iggtvL5YO"
      },
      "source": [
        "linear_model = LinearRegression().fit(x_train,y_train)"
      ],
      "execution_count": 77,
      "outputs": []
    },
    {
      "cell_type": "code",
      "metadata": {
        "id": "e0A0Q8VpMBrI"
      },
      "source": [
        "tree_model = DecisionTreeRegressor().fit(x_train,y_train)"
      ],
      "execution_count": 78,
      "outputs": []
    },
    {
      "cell_type": "code",
      "metadata": {
        "id": "meKicrz-MHrk"
      },
      "source": [
        "forest_model = RandomForestRegressor().fit(x_train,y_train)"
      ],
      "execution_count": 79,
      "outputs": []
    },
    {
      "cell_type": "code",
      "metadata": {
        "id": "a7zE9_EMMMDI"
      },
      "source": [
        "ada_model = AdaBoostRegressor().fit(x_train,y_train)"
      ],
      "execution_count": 80,
      "outputs": []
    },
    {
      "cell_type": "code",
      "metadata": {
        "colab": {
          "base_uri": "https://localhost:8080/"
        },
        "id": "4SZCiACKMPQw",
        "outputId": "b96394c8-523e-4f4e-d688-df6865842188"
      },
      "source": [
        "xgb_model = XGBRegressor().fit(x_train,y_train)"
      ],
      "execution_count": 81,
      "outputs": [
        {
          "output_type": "stream",
          "text": [
            "[09:22:40] WARNING: /workspace/src/objective/regression_obj.cu:152: reg:linear is now deprecated in favor of reg:squarederror.\n"
          ],
          "name": "stdout"
        }
      ]
    },
    {
      "cell_type": "code",
      "metadata": {
        "id": "NVSoDvbFMWxY"
      },
      "source": [
        "neighbor_model = KNeighborsRegressor().fit(x_train,y_train)"
      ],
      "execution_count": 82,
      "outputs": []
    },
    {
      "cell_type": "markdown",
      "metadata": {
        "id": "Xvk9JTUTMjNX"
      },
      "source": [
        "#Predicting on train\r\n",
        "\r\n",
        "---\r\n",
        "\r\n",
        "---\r\n",
        "\r\n",
        "\r\n",
        "\r\n"
      ]
    },
    {
      "cell_type": "code",
      "metadata": {
        "id": "1v_xUrmaMZgD"
      },
      "source": [
        "lineartrain = linear_model.predict(x_train)\r\n",
        "treetrain = tree_model.predict(x_train)\r\n",
        "foresttrain = forest_model.predict(x_train)\r\n",
        "neighbortrain = neighbor_model.predict(x_train)\r\n",
        "xgbtrain = xgb_model.predict(x_train)\r\n",
        "adatrain = ada_model.predict(x_train)"
      ],
      "execution_count": 83,
      "outputs": []
    },
    {
      "cell_type": "code",
      "metadata": {
        "colab": {
          "base_uri": "https://localhost:8080/"
        },
        "id": "58q_Gn1EMoWq",
        "outputId": "645f6f6a-ede0-417c-f173-cd9a538c39f7"
      },
      "source": [
        "k = len(x_train.columns)\r\n",
        "n = len(x_train)\r\n",
        "adr = (n-1)/(n-k-1)\r\n",
        "print(k)\r\n",
        "print(n)\r\n",
        "print(adr)"
      ],
      "execution_count": 84,
      "outputs": [
        {
          "output_type": "stream",
          "text": [
            "26\n",
            "270000\n",
            "1.000096305926889\n"
          ],
          "name": "stdout"
        }
      ]
    },
    {
      "cell_type": "markdown",
      "metadata": {
        "id": "0psZTr_jNM64"
      },
      "source": [
        "###Linear Model accuracy"
      ]
    },
    {
      "cell_type": "code",
      "metadata": {
        "colab": {
          "base_uri": "https://localhost:8080/"
        },
        "id": "1tn1GpATMsKy",
        "outputId": "1b824a0d-77c3-4da3-c537-e6d1a4de54a3"
      },
      "source": [
        "print('MAE :',mean_absolute_error(y_train,lineartrain))\r\n",
        "print('MSE :',mean_squared_error(y_train,lineartrain))\r\n",
        "print('RMSE :',np.sqrt(mean_squared_error(y_train,lineartrain)))\r\n",
        "print('R-Squared :',r2_score(y_train,lineartrain))\r\n",
        "print('Adjusted R-Squared :',1-(adr*(1-r2_score(y_train,lineartrain))))\r\n",
        "print('VIF :',1/(1-r2_score(y_train,lineartrain)))"
      ],
      "execution_count": 95,
      "outputs": [
        {
          "output_type": "stream",
          "text": [
            "MAE : 308.0707717037756\n",
            "MSE : 164533.3481114479\n",
            "RMSE : 405.62710475441344\n",
            "R-Squared : 0.8055434206976131\n",
            "Adjusted R-Squared : 0.8055246933765037\n",
            "VIF : 5.142536208275907\n"
          ],
          "name": "stdout"
        }
      ]
    },
    {
      "cell_type": "markdown",
      "metadata": {
        "id": "Fmo76d_PNi9I"
      },
      "source": [
        "###Decision tree accuracy"
      ]
    },
    {
      "cell_type": "code",
      "metadata": {
        "colab": {
          "base_uri": "https://localhost:8080/"
        },
        "id": "qokS9vG5NKld",
        "outputId": "f4056b1c-d90e-4c03-addc-0a684b3d2abb"
      },
      "source": [
        "print('MAE :',mean_absolute_error(y_train,treetrain))\r\n",
        "print('MSE :',mean_squared_error(y_train,treetrain))\r\n",
        "print('RMSE :',np.sqrt(mean_squared_error(y_train,treetrain)))\r\n",
        "print('R-Squared :',r2_score(y_train,treetrain))\r\n",
        "print('Adjusted R-Squared :',1-(adr*(1-r2_score(y_train,treetrain))))\r\n",
        "print('VIF :',1/(1-r2_score(y_train,treetrain)))"
      ],
      "execution_count": 96,
      "outputs": [
        {
          "output_type": "stream",
          "text": [
            "MAE : 0.0\n",
            "MSE : 0.0\n",
            "RMSE : 0.0\n",
            "R-Squared : 1.0\n",
            "Adjusted R-Squared : 1.0\n",
            "VIF : inf\n"
          ],
          "name": "stdout"
        }
      ]
    },
    {
      "cell_type": "markdown",
      "metadata": {
        "id": "6K7iJ6IFN1pe"
      },
      "source": [
        "###RandomForest accuracy"
      ]
    },
    {
      "cell_type": "code",
      "metadata": {
        "colab": {
          "base_uri": "https://localhost:8080/"
        },
        "id": "8KS9W0lpNbGh",
        "outputId": "de9f852a-7539-481b-d61e-9f1605ddab58"
      },
      "source": [
        "print('MAE :',mean_absolute_error(y_train,foresttrain))\r\n",
        "print('MSE :',mean_squared_error(y_train,foresttrain))\r\n",
        "print('RMSE :',np.sqrt(mean_squared_error(y_train,foresttrain)))\r\n",
        "print('R-Squared :',r2_score(y_train,foresttrain))\r\n",
        "print('Adjusted R-Squared :',1-(adr*(1-r2_score(y_train,foresttrain))))\r\n",
        "print('VIF :',1/(1-r2_score(y_train,foresttrain)))"
      ],
      "execution_count": 97,
      "outputs": [
        {
          "output_type": "stream",
          "text": [
            "MAE : 67.33265451851851\n",
            "MSE : 9105.37980416889\n",
            "RMSE : 95.42211381104953\n",
            "R-Squared : 0.9892386496093887\n",
            "Adjusted R-Squared : 0.9892376132275648\n",
            "VIF : 92.925140777169\n"
          ],
          "name": "stdout"
        }
      ]
    },
    {
      "cell_type": "markdown",
      "metadata": {
        "id": "Q-YO71EZN9UC"
      },
      "source": [
        "###KNN accuracy"
      ]
    },
    {
      "cell_type": "code",
      "metadata": {
        "colab": {
          "base_uri": "https://localhost:8080/"
        },
        "id": "d6nbF5MKN6Xe",
        "outputId": "beece10e-219b-4a19-ec3a-82cf65678c7d"
      },
      "source": [
        "print('MAE :',mean_absolute_error(y_train,neighbortrain))\r\n",
        "print('MSE :',mean_squared_error(y_train,neighbortrain))\r\n",
        "print('RMSE :',np.sqrt(mean_squared_error(y_train,neighbortrain)))\r\n",
        "print('R-Squared :',r2_score(y_train,neighbortrain))\r\n",
        "print('Adjusted R-Squared :',1-(adr*(1-r2_score(y_train,neighbortrain))))\r\n",
        "print('VIF :',1/(1-r2_score(y_train,neighbortrain)))"
      ],
      "execution_count": 98,
      "outputs": [
        {
          "output_type": "stream",
          "text": [
            "MAE : 270.05529333333334\n",
            "MSE : 132130.53678548147\n",
            "RMSE : 363.4976434386906\n",
            "R-Squared : 0.8438392429278887\n",
            "Adjusted R-Squared : 0.8438242037214352\n",
            "VIF : 6.403657479312962\n"
          ],
          "name": "stdout"
        }
      ]
    },
    {
      "cell_type": "markdown",
      "metadata": {
        "id": "78HvKt0AOLYE"
      },
      "source": [
        "###XGBoost accuracy"
      ]
    },
    {
      "cell_type": "code",
      "metadata": {
        "colab": {
          "base_uri": "https://localhost:8080/"
        },
        "id": "k28tMHXzOBes",
        "outputId": "d1a80611-85d0-4377-c322-751e1157bff7"
      },
      "source": [
        "print('MAE :',mean_absolute_error(y_train,xgbtrain))\r\n",
        "print('MSE :',mean_squared_error(y_train,xgbtrain))\r\n",
        "print('RMSE :',np.sqrt(mean_squared_error(y_train,xgbtrain)))\r\n",
        "print('R-Squared :',r2_score(y_train,xgbtrain))\r\n",
        "print('Adjusted R-Squared :',1-(adr*(1-r2_score(y_train,xgbtrain))))\r\n",
        "print('VIF :',1/(1-r2_score(y_train,xgbtrain)))"
      ],
      "execution_count": 99,
      "outputs": [
        {
          "output_type": "stream",
          "text": [
            "MAE : 205.9517591775499\n",
            "MSE : 83221.77032246858\n",
            "RMSE : 288.481837075523\n",
            "R-Squared : 0.9016429133294337\n",
            "Adjusted R-Squared : 0.9016334409590357\n",
            "VIF : 10.167035582798055\n"
          ],
          "name": "stdout"
        }
      ]
    },
    {
      "cell_type": "markdown",
      "metadata": {
        "id": "4a7OJfRiOWMm"
      },
      "source": [
        "###ADABoost accuracy"
      ]
    },
    {
      "cell_type": "code",
      "metadata": {
        "colab": {
          "base_uri": "https://localhost:8080/"
        },
        "id": "_gL8EqSOORxX",
        "outputId": "662832a2-3721-4971-92a2-355c72f56fd8"
      },
      "source": [
        "print('MAE :',mean_absolute_error(y_train,adatrain))\r\n",
        "print('MSE :',mean_squared_error(y_train,adatrain))\r\n",
        "print('RMSE :',np.sqrt(mean_squared_error(y_train,adatrain)))\r\n",
        "print('R-Squared :',r2_score(y_train,adatrain))\r\n",
        "print('Adjusted R-Squared :',1-(adr*(1-r2_score(y_train,adatrain))))\r\n",
        "print('VIF :',1/(1-r2_score(y_train,adatrain)))"
      ],
      "execution_count": 100,
      "outputs": [
        {
          "output_type": "stream",
          "text": [
            "MAE : 284.20138502599656\n",
            "MSE : 144635.76236447913\n",
            "RMSE : 380.31008711902336\n",
            "R-Squared : 0.8290597260858109\n",
            "Adjusted R-Squared : 0.8290432635242889\n",
            "VIF : 5.849996475973787\n"
          ],
          "name": "stdout"
        }
      ]
    },
    {
      "cell_type": "markdown",
      "metadata": {
        "id": "4oDt1cI4QOQu"
      },
      "source": [
        "#Predicting on test"
      ]
    },
    {
      "cell_type": "code",
      "metadata": {
        "id": "oSnUzPWwOaA9"
      },
      "source": [
        "linearpred = linear_model.predict(x_test)\r\n",
        "treepred = tree_model.predict(x_test)\r\n",
        "forestpred = forest_model.predict(x_test)\r\n",
        "neighborpred = neighbor_model.predict(x_test)\r\n",
        "xgbpred = xgb_model.predict(x_test)\r\n",
        "adapred = ada_model.predict(x_test)"
      ],
      "execution_count": 101,
      "outputs": []
    },
    {
      "cell_type": "code",
      "metadata": {
        "colab": {
          "base_uri": "https://localhost:8080/"
        },
        "id": "ecpRO-ZOQTKr",
        "outputId": "b062304d-6ce7-42bd-bc26-199a6a96ce28"
      },
      "source": [
        "k1 = len(x_test.columns)\r\n",
        "n1 = len(x_test)\r\n",
        "adr1 = (n1-1)/(n1-k1-1)\r\n",
        "print(k1)\r\n",
        "print(n1)\r\n",
        "print(adr1)"
      ],
      "execution_count": 102,
      "outputs": [
        {
          "output_type": "stream",
          "text": [
            "26\n",
            "30000\n",
            "1.0008674473692991\n"
          ],
          "name": "stdout"
        }
      ]
    },
    {
      "cell_type": "markdown",
      "metadata": {
        "id": "id3A6AKFQcRo"
      },
      "source": [
        "###Linear accuracy"
      ]
    },
    {
      "cell_type": "code",
      "metadata": {
        "colab": {
          "base_uri": "https://localhost:8080/"
        },
        "id": "pSeCV95aQXKp",
        "outputId": "07cafabc-61f1-48b8-b949-cd40b6c667e3"
      },
      "source": [
        "print('MAE :',mean_absolute_error(y_test,linearpred))\r\n",
        "print('MSE :',mean_squared_error(y_test,linearpred))\r\n",
        "print('RMSE :',np.sqrt(mean_squared_error(y_test,linearpred)))\r\n",
        "print('R-Squared :',r2_score(y_test,linearpred))\r\n",
        "print('Adjusted R-Squared :',1-(adr1*(1-r2_score(y_test,linearpred))))\r\n",
        "print('VIF :',1/(1-r2_score(y_test,linearpred)))"
      ],
      "execution_count": 103,
      "outputs": [
        {
          "output_type": "stream",
          "text": [
            "MAE : 308.24849811213363\n",
            "MSE : 165986.02978862164\n",
            "RMSE : 407.41383112091523\n",
            "R-Squared : 0.8043489343510827\n",
            "Adjusted R-Squared : 0.804179217348885\n",
            "VIF : 5.111140062965119\n"
          ],
          "name": "stdout"
        }
      ]
    },
    {
      "cell_type": "markdown",
      "metadata": {
        "id": "4q2B8sWIRbzL"
      },
      "source": [
        "###Decision tree accuracy"
      ]
    },
    {
      "cell_type": "code",
      "metadata": {
        "colab": {
          "base_uri": "https://localhost:8080/"
        },
        "id": "9eIsfoSQQnfv",
        "outputId": "36ee8bbb-197f-4b04-8d8e-3e2367c3a3af"
      },
      "source": [
        "print('MAE :',mean_absolute_error(y_test,treepred))\r\n",
        "print('MSE :',mean_squared_error(y_test,treepred))\r\n",
        "print('RMSE :',np.sqrt(mean_squared_error(y_test,treepred)))\r\n",
        "print('R-Squared :',r2_score(y_test,treepred))\r\n",
        "print('Adjusted R-Squared :',1-(adr1*(1-r2_score(y_test,treepred))))\r\n",
        "print('VIF :',1/(1-r2_score(y_test,treepred)))\r\n"
      ],
      "execution_count": 104,
      "outputs": [
        {
          "output_type": "stream",
          "text": [
            "MAE : 254.09563333333332\n",
            "MSE : 132897.76996666667\n",
            "RMSE : 364.5514640852052\n",
            "R-Squared : 0.8433507304834311\n",
            "Adjusted R-Squared : 0.8432148454866863\n",
            "VIF : 6.383687604072929\n"
          ],
          "name": "stdout"
        }
      ]
    },
    {
      "cell_type": "markdown",
      "metadata": {
        "id": "UntvwHCMRV24"
      },
      "source": [
        "###RandomForest accuracy"
      ]
    },
    {
      "cell_type": "code",
      "metadata": {
        "colab": {
          "base_uri": "https://localhost:8080/"
        },
        "id": "YN3jWyUmQ1hF",
        "outputId": "dbbc6a3a-263e-44d1-88ff-917233c850fe"
      },
      "source": [
        "print('MAE :',mean_absolute_error(y_test,forestpred))\r\n",
        "print('MSE :',mean_squared_error(y_test,forestpred))\r\n",
        "print('RMSE :',np.sqrt(mean_squared_error(y_test,forestpred)))\r\n",
        "print('R-Squared :',r2_score(y_test,forestpred))\r\n",
        "print('Adjusted R-Squared :',1-(adr1*(1-r2_score(y_test,forestpred))))\r\n",
        "print('VIF :',1/(1-r2_score(y_test,forestpred)))"
      ],
      "execution_count": 105,
      "outputs": [
        {
          "output_type": "stream",
          "text": [
            "MAE : 179.74353333333335\n",
            "MSE : 65390.56520630667\n",
            "RMSE : 255.71578990415642\n",
            "R-Squared : 0.9229228280097346\n",
            "Adjusted R-Squared : 0.9228559676196586\n",
            "VIF : 12.974009997750002\n"
          ],
          "name": "stdout"
        }
      ]
    },
    {
      "cell_type": "markdown",
      "metadata": {
        "id": "IeIO-V72RRIF"
      },
      "source": [
        "###KNN accuracy"
      ]
    },
    {
      "cell_type": "code",
      "metadata": {
        "colab": {
          "base_uri": "https://localhost:8080/"
        },
        "id": "12nPA2DBQ5fI",
        "outputId": "7f5ba933-058d-4054-94d7-6d56e2902565"
      },
      "source": [
        "print('MAE :',mean_absolute_error(y_test,neighborpred))\r\n",
        "print('MSE :',mean_squared_error(y_test,neighborpred))\r\n",
        "print('RMSE :',np.sqrt(mean_squared_error(y_test,neighborpred)))\r\n",
        "print('R-Squared :',r2_score(y_test,neighborpred))\r\n",
        "print('Adjusted R-Squared :',1-(adr1*(1-r2_score(y_test,neighborpred))))\r\n",
        "print('VIF :',1/(1-r2_score(y_test,neighborpred)))"
      ],
      "execution_count": 106,
      "outputs": [
        {
          "output_type": "stream",
          "text": [
            "MAE : 332.13366666666667\n",
            "MSE : 201376.916264\n",
            "RMSE : 448.7503941658436\n",
            "R-Squared : 0.76263298595479\n",
            "Adjusted R-Squared : 0.762427082562898\n",
            "VIF : 4.212885282407165\n"
          ],
          "name": "stdout"
        }
      ]
    },
    {
      "cell_type": "markdown",
      "metadata": {
        "id": "fuYFjwcARMih"
      },
      "source": [
        "###XGBoost accuracy"
      ]
    },
    {
      "cell_type": "code",
      "metadata": {
        "colab": {
          "base_uri": "https://localhost:8080/"
        },
        "id": "xri6yj3WQ9Uw",
        "outputId": "64f650a2-ecd3-429e-f11e-898577ee145b"
      },
      "source": [
        "print('MAE :',mean_absolute_error(y_test,xgbpred))\r\n",
        "print('MSE :',mean_squared_error(y_test,xgbpred))\r\n",
        "print('RMSE :',np.sqrt(mean_squared_error(y_test,xgbpred)))\r\n",
        "print('R-Squared :',r2_score(y_test,xgbpred))\r\n",
        "print('Adjusted R-Squared :',1-(adr1*(1-r2_score(y_test,xgbpred))))\r\n",
        "print('VIF :',1/(1-r2_score(y_test,xgbpred)))"
      ],
      "execution_count": 107,
      "outputs": [
        {
          "output_type": "stream",
          "text": [
            "MAE : 205.44360010635057\n",
            "MSE : 84166.34299455557\n",
            "RMSE : 290.1143619239757\n",
            "R-Squared : 0.900791441788037\n",
            "Adjusted R-Squared : 0.9007053835852041\n",
            "VIF : 10.079775555889654\n"
          ],
          "name": "stdout"
        }
      ]
    },
    {
      "cell_type": "markdown",
      "metadata": {
        "id": "B0aBgUPsRIAT"
      },
      "source": [
        "###ADABoost accuracy"
      ]
    },
    {
      "cell_type": "code",
      "metadata": {
        "colab": {
          "base_uri": "https://localhost:8080/"
        },
        "id": "ZPKaFDx3RAlb",
        "outputId": "1dad2e3c-144b-4f25-e48d-e9253758bfc6"
      },
      "source": [
        "print('MAE :',mean_absolute_error(y_test,adapred))\r\n",
        "print('MSE :',mean_squared_error(y_test,adapred))\r\n",
        "print('RMSE :',np.sqrt(mean_squared_error(y_test,adapred)))\r\n",
        "print('R-Squared :',r2_score(y_test,adapred))\r\n",
        "print('Adjusted R-Squared :',1-(adr1*(1-r2_score(y_test,adapred))))\r\n",
        "print('VIF :',1/(1-r2_score(y_test,adapred)))"
      ],
      "execution_count": 108,
      "outputs": [
        {
          "output_type": "stream",
          "text": [
            "MAE : 283.2088336903319\n",
            "MSE : 144845.02032902604\n",
            "RMSE : 380.58510261047536\n",
            "R-Squared : 0.8292682666282094\n",
            "Adjusted R-Squared : 0.8291201658352402\n",
            "VIF : 5.857141963306667\n"
          ],
          "name": "stdout"
        }
      ]
    },
    {
      "cell_type": "markdown",
      "metadata": {
        "id": "gk4LPeJ0bk_g"
      },
      "source": [
        "###The best model for my dataset is Random Forest with R-squared value 98% in train and 92% in test."
      ]
    },
    {
      "cell_type": "code",
      "metadata": {
        "id": "-ci6VpqtbwGW"
      },
      "source": [
        ""
      ],
      "execution_count": null,
      "outputs": []
    }
  ]
}